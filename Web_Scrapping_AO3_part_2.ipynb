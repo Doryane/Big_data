{
  "nbformat": 4,
  "nbformat_minor": 0,
  "metadata": {
    "colab": {
      "provenance": [],
      "authorship_tag": "ABX9TyOwGEiwRJWcejauhzBheybX",
      "include_colab_link": true
    },
    "kernelspec": {
      "name": "python3",
      "display_name": "Python 3"
    },
    "language_info": {
      "name": "python"
    }
  },
  "cells": [
    {
      "cell_type": "markdown",
      "metadata": {
        "id": "view-in-github",
        "colab_type": "text"
      },
      "source": [
        "<a href=\"https://colab.research.google.com/github/Doryane/Big_data/blob/main/Web_Scrapping_AO3_part_2.ipynb\" target=\"_parent\"><img src=\"https://colab.research.google.com/assets/colab-badge.svg\" alt=\"Open In Colab\"/></a>"
      ]
    },
    {
      "cell_type": "code",
      "source": [
        "import time\n",
        "start_time = time.time()\n",
        "#main()"
      ],
      "metadata": {
        "id": "YZgjylefEeHj"
      },
      "execution_count": 34,
      "outputs": []
    },
    {
      "cell_type": "markdown",
      "source": [
        "Web Scripping pour AO3 based on following code :\n",
        "https://github.com/kenalba/ao3-scraper/blob/main/scraper.py"
      ],
      "metadata": {
        "id": "ijZ5GY4itGU0"
      }
    },
    {
      "cell_type": "markdown",
      "source": [
        "\n",
        "\n",
        "---\n",
        "\n",
        "# What this code do ?\n",
        "\n",
        "With this code you can append the following information from AO3 and put it into a data frame from a certain page to another\n",
        "\n",
        "*  Story IDS of the work\n",
        "*  Updated date of the work\n",
        "*  Title and author of the work\n",
        "*  Language of the work\n",
        "*  Number of words in the work\n",
        "*  Number of chapter in the work\n",
        "*  Number of hits\n",
        "*  Requiered tags\n",
        "*  Additionnal tags"
      ],
      "metadata": {
        "id": "4xcOY-y3OGH5"
      }
    },
    {
      "cell_type": "markdown",
      "source": [
        "This code do the same as Web Srapping AO3 part 1 but only to append the database.\n",
        "\n",
        "It was supposed to be quicker than part 1 but it's not and I don't really get why.\n",
        "\n",
        "EDIT : So actually this code is indeed faster when you append more than 50 page, I tried to append 100 page and this code (part 2) took 368 seconds and the other (part 1) 395 seconds to run (without the graph and histogram etc)."
      ],
      "metadata": {
        "id": "x4lDbHG4tJnZ"
      }
    },
    {
      "cell_type": "markdown",
      "source": [
        "\n",
        "\n",
        "---\n",
        "# ⚠ WARNING ⚠\n",
        "Two important thing to understand when you download **many files** of data :\n",
        "\n",
        "\n",
        "1.   **You can't append more than 70 pages in one time**\n",
        "\n",
        "  If you want to append a lot of data I suggest 50 page by 50 page. I mean if you want to try to append more that's your choice but the code is optimized to append 50 by 50 (or less).\n",
        "\n",
        "  Also, one page is 20 work, so each time you run the code you can append at max 1400 works.\n",
        "\n",
        "2.   **You need to have the SAME interval of page between files**\n",
        "\n",
        "  Per example, you want to append the work from a ertain fandom, you have 457 pages in total. I would suggest to append page 1 to 50 (base_page_0_to_51), then 50 to 100 (base_page_50_to_101), ... , then 400 to 450 (base_page_400_to_450 and finally page 450 to 456 (base_page_450_to_457).\n",
        "\n",
        "  For the last one you input 456 as Number_page but its append untill page 457 because my code is WEIRD.\n",
        "\n",
        "\n"
      ],
      "metadata": {
        "id": "tKY3x79TPA8M"
      }
    },
    {
      "cell_type": "markdown",
      "source": [
        "This section doesn't have a lot of comments, if you're curious on how the code work I suggest you to check part 1 (it's the same result at the end)"
      ],
      "metadata": {
        "id": "CiCAvJtAaBX5"
      }
    },
    {
      "cell_type": "markdown",
      "source": [
        "**Library**"
      ],
      "metadata": {
        "id": "6mhpDSaRtr-V"
      }
    },
    {
      "cell_type": "code",
      "execution_count": 35,
      "metadata": {
        "id": "U1fS6u2GiiNR"
      },
      "outputs": [],
      "source": [
        "from bs4 import BeautifulSoup\n",
        "import urllib.request\n",
        "import csv\n",
        "from time import sleep\n",
        "import pickle\n",
        "from os import path\n",
        "import pandas as pd\n",
        "import datetime\n",
        "import random\n",
        "import matplotlib.pyplot as plt\n",
        "from urllib.parse import urlparse\n",
        "from google.colab import files\n",
        "import pandas as pd"
      ]
    },
    {
      "cell_type": "markdown",
      "source": [
        "**Parameters**"
      ],
      "metadata": {
        "id": "6oI06n8Btvhk"
      }
    },
    {
      "cell_type": "markdown",
      "source": [
        "Just as part 1, we ask you to input an URL, a first page and a last one."
      ],
      "metadata": {
        "id": "GyfDsHUDtyIJ"
      }
    },
    {
      "cell_type": "code",
      "source": [
        "# Choose the fandom, the beginning of the page and the ending of the page of the data you want to append\n",
        "\n",
        "# ULR\n",
        "TEST_URL = \"https://archiveofourown.org/tags/Arcane:%20League%20of%20Legends%20(Cartoon%202021)/\"\n",
        "\n",
        "# First_Page\n",
        "First_Page = 1\n",
        "Beginning_Page = First_Page\n",
        "\n",
        "# Last_page\n",
        "Last_page = 100\n",
        "Last_page = Last_page + 1\n",
        "Number_page = Last_page"
      ],
      "metadata": {
        "id": "Nzvzrj3ujBOP"
      },
      "execution_count": 36,
      "outputs": []
    },
    {
      "cell_type": "code",
      "source": [
        "# Cleaning the tag\n",
        "tag= urlparse(TEST_URL)\n",
        "tag = tag.path\n",
        "tag_2 = tag\n",
        "tag_2 = tag_2.replace('tags','')\n",
        "tag_2 = tag_2.replace('/','')\n",
        "tag_2 = tag_2.replace('%20',' ')\n",
        "tag_2 = tag_2.replace('*s*',' and ')"
      ],
      "metadata": {
        "id": "OFKRxxWxjTHP"
      },
      "execution_count": 37,
      "outputs": []
    },
    {
      "cell_type": "code",
      "source": [
        "print(\"Download Data for the following tag : \",tag_2,\"from page\",First_Page,\"to\",Last_page)"
      ],
      "metadata": {
        "colab": {
          "base_uri": "https://localhost:8080/"
        },
        "id": "mmg4CC7RjpQL",
        "outputId": "b5103936-81a3-4d80-d216-1dab270d9268"
      },
      "execution_count": 38,
      "outputs": [
        {
          "output_type": "stream",
          "name": "stdout",
          "text": [
            "Download Data for the following tag :  Arcane: League of Legends (Cartoon 2021) from page 1 to 101\n"
          ]
        }
      ]
    },
    {
      "cell_type": "markdown",
      "source": [
        "**Define functions**"
      ],
      "metadata": {
        "id": "YLHpl31VmwdM"
      }
    },
    {
      "cell_type": "markdown",
      "source": [
        "Download and soupify"
      ],
      "metadata": {
        "id": "ZFVwLPvbuebW"
      }
    },
    {
      "cell_type": "code",
      "source": [
        "def download_and_soupify(url, parser=\"html.parser\"):\n",
        "\t\"\"\"\n",
        "\tGiven a URL, downloads the site and turns it into beautiful soup.\n",
        "\t\"\"\"\n",
        "\n",
        "\tfull_url = url + \"works\"\n",
        "\theaders = {'User-Agent': 'Mozilla/5.0 (Windows NT 10.0; Win64; x64) AppleWebKit/537.36 (KHTML, like Gecko) Chrome/58.0.3029.110 Safari/537.3'}\n",
        "\treq = urllib.request.Request(full_url, headers=headers)\n",
        "\tresponse = urllib.request.urlopen(req)\n",
        "\tdirectory_html = response.read()\n",
        "\tindex_soup = BeautifulSoup(directory_html, parser)\n",
        "\n",
        "\treturn index_soup"
      ],
      "metadata": {
        "id": "ToSOUt9Qmxy1"
      },
      "execution_count": 39,
      "outputs": []
    },
    {
      "cell_type": "markdown",
      "source": [
        "Get directory urls"
      ],
      "metadata": {
        "id": "jr1irwt8umrd"
      }
    },
    {
      "cell_type": "code",
      "source": [
        "def get_directory_urls(url, index_soup):\n",
        "\t\"\"\"\n",
        "\tGiven the base directory as soup, figure out how many pages there are,\n",
        "\tand return a list of the URLs of each directory page.\n",
        "\t\"\"\"\n",
        "\n",
        "\tpage_numbers = index_soup.find_all(\"ol\", class_=\"pagination actions\")\n",
        "\n",
        "\tli_entries = page_numbers[0].find_all(\"li\")\n",
        "\n",
        "\tli_texts = [number.text for number in li_entries]\n",
        "\tli_digits = [int(number) for number in li_texts if number.isdigit()]\n",
        "\tsorted_page_numbers = sorted(li_digits)\n",
        "\n",
        "\tnumber_of_pages = sorted_page_numbers[-1]\n",
        "\n",
        "\turl_prefix = url + \"works?page=\"\n",
        "\tdirectory_urls = [(url_prefix + str(page_number)) for page_number in range(0, number_of_pages+1)]\n",
        "\n",
        "\treturn directory_urls"
      ],
      "metadata": {
        "id": "-73_Y0T_j-Tm"
      },
      "execution_count": 40,
      "outputs": []
    },
    {
      "cell_type": "markdown",
      "source": [
        "Story IDS"
      ],
      "metadata": {
        "id": "AAISABoiuomG"
      }
    },
    {
      "cell_type": "code",
      "source": [
        "def get_story_ids(directory_url):\n",
        "\t\"\"\"\n",
        "\tGiven a single directory URL, get all stories from that URL. Returns a list of story IDs.\n",
        "\t\"\"\"\n",
        "\n",
        "\tdir_soup = download_and_soupify(directory_url)\n",
        "\tdir_links = dir_soup.find_all(\"a\", href=True)\n",
        "\n",
        "\tdir_hrefs = [link.attrs['href'] for link in dir_links]\n",
        "\twork_hrefs = [link for link in dir_hrefs if \"/works/\" in link]\n",
        "\tpotential_ids = [work.split(\"/\")[2] for work in work_hrefs]\n",
        "\tid_list = [int(work_id) for work_id in potential_ids if work_id.isdigit()]\n",
        "\n",
        "\tstory_ids = list(set(id_list))\n",
        "\n",
        "\treturn story_ids"
      ],
      "metadata": {
        "id": "DKe0M2GUlCDo"
      },
      "execution_count": 41,
      "outputs": []
    },
    {
      "cell_type": "markdown",
      "source": [
        "Date update of the work"
      ],
      "metadata": {
        "id": "bcbtne8iurw3"
      }
    },
    {
      "cell_type": "code",
      "source": [
        "def datetime(directory_url):\n",
        "  dir_soup = download_and_soupify(directory_url)\n",
        "  for x in dir_soup.findAll(\"p\",{\"class\":\"datetime\"}):\n",
        "    text=x.get_text()\n",
        "    date_work.append(str(text))"
      ],
      "metadata": {
        "id": "-OIiZcoFlEyC"
      },
      "execution_count": 42,
      "outputs": []
    },
    {
      "cell_type": "markdown",
      "source": [
        "Title and author of the work"
      ],
      "metadata": {
        "id": "hikkzg2Xuy4Y"
      }
    },
    {
      "cell_type": "code",
      "source": [
        "def worktitle(directory_url):\n",
        "\n",
        "  dir_soup = download_and_soupify(directory_url)\n",
        "  for x in dir_soup.findAll(\"h4\",attrs={\"class\": \"heading\"}):\n",
        "    text=x.get_text()\n",
        "    work_title_authors.append(str(text))\n",
        "\n",
        "  work_title_authors.remove('\\n            Include\\n          ')\n",
        "  work_title_authors.remove('\\n            Exclude\\n          ')\n",
        "  work_title_authors.remove('More Options')\n",
        "  work_title_authors.remove('Pages Navigation')\n",
        "  work_title_authors.remove('About the Archive')\n",
        "  work_title_authors.remove('Pages Navigation')\n",
        "  work_title_authors.remove('Contact Us')\n",
        "  work_title_authors.remove('Development')\n",
        "\n",
        "  (work_title_authors)\n",
        "\n",
        "# It quit the same as the other function\n",
        "# Exept this time we need to remove a lot of stuff by page to clean the text\n"
      ],
      "metadata": {
        "id": "epc0deudlLXN"
      },
      "execution_count": 43,
      "outputs": []
    },
    {
      "cell_type": "markdown",
      "source": [
        "Language of the work"
      ],
      "metadata": {
        "id": "q-w13ppfu0Gy"
      }
    },
    {
      "cell_type": "code",
      "source": [
        "def worklanguage(directory_url):\n",
        "\n",
        "  dir_soup = download_and_soupify(directory_url)\n",
        "  for x in dir_soup.findAll(\"dd\",attrs={\"class\": \"language\"}):\n",
        "    text=x.get_text()\n",
        "    work_language.append(str(text))\n",
        "\n",
        "  (work_language)\n",
        "\n",
        "# I guess you know how it works now"
      ],
      "metadata": {
        "id": "6VYPjZ2-lN7f"
      },
      "execution_count": 44,
      "outputs": []
    },
    {
      "cell_type": "markdown",
      "source": [
        "Number of words of the work"
      ],
      "metadata": {
        "id": "rsjiyCVHu2Bb"
      }
    },
    {
      "cell_type": "code",
      "source": [
        "def NumberofWords(directory_url):\n",
        "\n",
        "  dir_soup = download_and_soupify(directory_url)\n",
        "  for x in dir_soup.findAll(\"dd\",attrs={\"class\": \"words\"}):\n",
        "    text=x.get_text()\n",
        "    Nbr_words.append(str(text))"
      ],
      "metadata": {
        "id": "3JRbuSeFlRl0"
      },
      "execution_count": 45,
      "outputs": []
    },
    {
      "cell_type": "markdown",
      "source": [
        "Number of Chapter"
      ],
      "metadata": {
        "id": "uJLgVWCHu4QL"
      }
    },
    {
      "cell_type": "code",
      "source": [
        "def NumberofChapter(directory_url):\n",
        "\n",
        "  dir_soup = download_and_soupify(directory_url)\n",
        "  for x in dir_soup.findAll(\"dd\",attrs={\"class\": \"chapters\"}):\n",
        "    text=x.get_text()\n",
        "    Nbr_chapter.append(str(text))"
      ],
      "metadata": {
        "id": "Tg7hKWOvlTMI"
      },
      "execution_count": 46,
      "outputs": []
    },
    {
      "cell_type": "markdown",
      "source": [
        "Number of Hits"
      ],
      "metadata": {
        "id": "iL65Zjg9u7vv"
      }
    },
    {
      "cell_type": "code",
      "source": [
        "def NumberofHits(directory_url):\n",
        "\n",
        "  dir_soup = download_and_soupify(directory_url)\n",
        "  for x in dir_soup.findAll(\"dd\",attrs={\"class\": \"hits\"}):\n",
        "    text=x.get_text()\n",
        "    Nbr_hits.append(str(text))"
      ],
      "metadata": {
        "id": "gk2zfbDzlUTY"
      },
      "execution_count": 47,
      "outputs": []
    },
    {
      "cell_type": "markdown",
      "source": [
        "Requiered tags"
      ],
      "metadata": {
        "id": "Jt-umwdQu9_R"
      }
    },
    {
      "cell_type": "code",
      "source": [
        "def tags_req(directory_url):\n",
        "\n",
        "  dir_soup = download_and_soupify(directory_url)\n",
        "  for x in dir_soup.findAll(\"ul\",attrs={\"class\": \"required-tags\"}):\n",
        "    text=x.get_text()\n",
        "    tags_requiered.append(str(text))"
      ],
      "metadata": {
        "id": "BZKeYeIqDdVo"
      },
      "execution_count": 48,
      "outputs": []
    },
    {
      "cell_type": "markdown",
      "source": [
        "Additionals tags"
      ],
      "metadata": {
        "id": "xY0kqGX3vAXr"
      }
    },
    {
      "cell_type": "code",
      "source": [
        "def tags(directory_url):\n",
        "\n",
        "  dir_soup = download_and_soupify(directory_url)\n",
        "  for x in dir_soup.findAll(\"ul\",attrs={\"class\": \"tags commas\"}):\n",
        "    text=x.get_text()\n",
        "    tags_add.append(str(text))"
      ],
      "metadata": {
        "id": "3T_DYkqzlhN7"
      },
      "execution_count": 49,
      "outputs": []
    },
    {
      "cell_type": "markdown",
      "source": [
        "**Big function for everything**"
      ],
      "metadata": {
        "id": "rHDXQD9Qlo61"
      }
    },
    {
      "cell_type": "code",
      "source": [
        "index_soup = download_and_soupify(TEST_URL)"
      ],
      "metadata": {
        "id": "VqVc8P4Mm0Oc"
      },
      "execution_count": 50,
      "outputs": []
    },
    {
      "cell_type": "code",
      "source": [
        "directory_urls = get_directory_urls(TEST_URL,index_soup)"
      ],
      "metadata": {
        "id": "y6eV9tbBloPy"
      },
      "execution_count": 51,
      "outputs": []
    },
    {
      "cell_type": "code",
      "source": [
        "# Empty storage\n",
        "story_ids = []\n",
        "story_ids_2 = []\n",
        "\n",
        "date_work = []\n",
        "\n",
        "work_title_authors = []\n",
        "\n",
        "work_language = []\n",
        "work_language_2 = []\n",
        "\n",
        "Nbr_words = []\n",
        "\n",
        "Nbr_chapter = []\n",
        "\n",
        "Nbr_hits = []\n",
        "\n",
        "tags_requiered = []\n",
        "\n",
        "tags_add = []\n",
        "\n",
        "\n",
        "index_page = []"
      ],
      "metadata": {
        "id": "fBIwLEfMrhh3"
      },
      "execution_count": 52,
      "outputs": []
    },
    {
      "cell_type": "code",
      "source": [
        "def data_append(URL, Beginning_Page, Number_page):\n",
        "\n",
        "  for i in range(Beginning_Page,Number_page):\n",
        "    # story_ids_2\n",
        "    story_ids.append(get_story_ids(directory_urls[i]))\n",
        "\n",
        "    # data_updated\n",
        "    date_work.append(datetime(directory_urls[i]))\n",
        "    date_work.remove(None)\n",
        "\n",
        "    # work_title_authors\n",
        "    work_title_authors.append(worktitle(directory_urls[i]))\n",
        "    work_title_authors.remove(None)\n",
        "\n",
        "    # work_language\n",
        "    work_language.append(worklanguage(directory_urls[i]))\n",
        "    work_language.remove(None)\n",
        "\n",
        "    # Number of words\n",
        "    Nbr_words.append(NumberofWords(directory_urls[i]))\n",
        "    Nbr_words.remove(None)\n",
        "\n",
        "    # Number of chapter\n",
        "    Nbr_chapter.append(NumberofChapter(directory_urls[i]))\n",
        "    Nbr_chapter.remove(None)\n",
        "\n",
        "    # Number of hits\n",
        "    Nbr_hits.append(NumberofHits(directory_urls[i]))\n",
        "    Nbr_hits.remove(None)\n",
        "\n",
        "    # Requiered tags\n",
        "    tags_requiered.append(tags_req(directory_urls[i]))\n",
        "    tags_requiered.remove(None)\n",
        "\n",
        "    # Additionnal tags\n",
        "    tags_add.append(tags(directory_urls[i]))\n",
        "    tags_add.remove(None)\n",
        "\n",
        "###############################################################################\n",
        "\n",
        "    # index_page\n",
        "    for j in range(20):\n",
        "      index_page.append(i)\n",
        "\n",
        "  # work_title_authors\n",
        "  for work in range(len(work_title_authors)):\n",
        "    work_title_authors[work] = work_title_authors[work].replace('\\n',' ')\n",
        "    work_title_authors[work] = work_title_authors[work].replace('       ',' ')\n",
        "    work_title_authors[work] = work_title_authors[work].replace('     ',' ')\n",
        "\n",
        "  # work_language\n",
        "  Number_page_bis = Number_page - Beginning_Page\n",
        "  Number_page_bis = Number_page_bis\n",
        "  Drop_language_setting = []\n",
        "  for i in range(Number_page_bis):\n",
        "    Drop_language_setting_bis = 20\n",
        "    Drop_language_setting_bis = Drop_language_setting_bis + i*20\n",
        "    Drop_language_setting.append(Drop_language_setting_bis)\n",
        "  Drop_language_setting\n",
        "\n",
        "  for i in Drop_language_setting:\n",
        "    work_language.remove(work_language[i])\n",
        "\n",
        "  # Requiered tags and additionnal tags\n",
        "  for i in range(len(tags_requiered)):\n",
        "    tags_requiered[i] = tags_requiered[i].replace(\"\\n\",\"|\")\n",
        "    tags_add[i] = tags_add[i].replace(\"\\n\",\"|\")\n",
        "    backslash = '\"\\\\\"'\n",
        "    tags_add[i] = tags_add[i].replace(backslash,'')"
      ],
      "metadata": {
        "id": "KOMNDlTul3Mw"
      },
      "execution_count": 53,
      "outputs": []
    },
    {
      "cell_type": "markdown",
      "source": [
        "**Running the function**"
      ],
      "metadata": {
        "id": "mtRr_GTUvgEe"
      }
    },
    {
      "cell_type": "code",
      "source": [
        "data_append(TEST_URL,First_Page,Last_page)"
      ],
      "metadata": {
        "id": "YLyA_bZnnUO8",
        "outputId": "e0c41f18-f40a-461e-9fab-5697dd12c567",
        "colab": {
          "base_uri": "https://localhost:8080/",
          "height": 298
        }
      },
      "execution_count": 54,
      "outputs": [
        {
          "output_type": "error",
          "ename": "KeyboardInterrupt",
          "evalue": "",
          "traceback": [
            "\u001b[0;31m---------------------------------------------------------------------------\u001b[0m",
            "\u001b[0;31mKeyboardInterrupt\u001b[0m                         Traceback (most recent call last)",
            "\u001b[0;32m<ipython-input-54-0d7c87d68b1b>\u001b[0m in \u001b[0;36m<cell line: 0>\u001b[0;34m()\u001b[0m\n\u001b[0;32m----> 1\u001b[0;31m \u001b[0mdata_append\u001b[0m\u001b[0;34m(\u001b[0m\u001b[0mTEST_URL\u001b[0m\u001b[0;34m,\u001b[0m\u001b[0mFirst_Page\u001b[0m\u001b[0;34m,\u001b[0m\u001b[0mLast_page\u001b[0m\u001b[0;34m)\u001b[0m\u001b[0;34m\u001b[0m\u001b[0;34m\u001b[0m\u001b[0m\n\u001b[0m",
            "\u001b[0;32m<ipython-input-53-998ae4c1490e>\u001b[0m in \u001b[0;36mdata_append\u001b[0;34m(URL, Beginning_Page, Number_page)\u001b[0m\n\u001b[1;32m     30\u001b[0m \u001b[0;34m\u001b[0m\u001b[0m\n\u001b[1;32m     31\u001b[0m     \u001b[0;31m# Requiered tags\u001b[0m\u001b[0;34m\u001b[0m\u001b[0;34m\u001b[0m\u001b[0m\n\u001b[0;32m---> 32\u001b[0;31m     \u001b[0mtags_requiered\u001b[0m\u001b[0;34m.\u001b[0m\u001b[0mappend\u001b[0m\u001b[0;34m(\u001b[0m\u001b[0mtags_req\u001b[0m\u001b[0;34m(\u001b[0m\u001b[0mdirectory_urls\u001b[0m\u001b[0;34m[\u001b[0m\u001b[0mi\u001b[0m\u001b[0;34m]\u001b[0m\u001b[0;34m)\u001b[0m\u001b[0;34m)\u001b[0m\u001b[0;34m\u001b[0m\u001b[0;34m\u001b[0m\u001b[0m\n\u001b[0m\u001b[1;32m     33\u001b[0m     \u001b[0mtags_requiered\u001b[0m\u001b[0;34m.\u001b[0m\u001b[0mremove\u001b[0m\u001b[0;34m(\u001b[0m\u001b[0;32mNone\u001b[0m\u001b[0;34m)\u001b[0m\u001b[0;34m\u001b[0m\u001b[0;34m\u001b[0m\u001b[0m\n\u001b[1;32m     34\u001b[0m \u001b[0;34m\u001b[0m\u001b[0m\n",
            "\u001b[0;32m<ipython-input-48-23bd9f173f12>\u001b[0m in \u001b[0;36mtags_req\u001b[0;34m(directory_url)\u001b[0m\n\u001b[1;32m      1\u001b[0m \u001b[0;32mdef\u001b[0m \u001b[0mtags_req\u001b[0m\u001b[0;34m(\u001b[0m\u001b[0mdirectory_url\u001b[0m\u001b[0;34m)\u001b[0m\u001b[0;34m:\u001b[0m\u001b[0;34m\u001b[0m\u001b[0;34m\u001b[0m\u001b[0m\n\u001b[1;32m      2\u001b[0m \u001b[0;34m\u001b[0m\u001b[0m\n\u001b[0;32m----> 3\u001b[0;31m   \u001b[0mdir_soup\u001b[0m \u001b[0;34m=\u001b[0m \u001b[0mdownload_and_soupify\u001b[0m\u001b[0;34m(\u001b[0m\u001b[0mdirectory_url\u001b[0m\u001b[0;34m)\u001b[0m\u001b[0;34m\u001b[0m\u001b[0;34m\u001b[0m\u001b[0m\n\u001b[0m\u001b[1;32m      4\u001b[0m   \u001b[0;32mfor\u001b[0m \u001b[0mx\u001b[0m \u001b[0;32min\u001b[0m \u001b[0mdir_soup\u001b[0m\u001b[0;34m.\u001b[0m\u001b[0mfindAll\u001b[0m\u001b[0;34m(\u001b[0m\u001b[0;34m\"ul\"\u001b[0m\u001b[0;34m,\u001b[0m\u001b[0mattrs\u001b[0m\u001b[0;34m=\u001b[0m\u001b[0;34m{\u001b[0m\u001b[0;34m\"class\"\u001b[0m\u001b[0;34m:\u001b[0m \u001b[0;34m\"required-tags\"\u001b[0m\u001b[0;34m}\u001b[0m\u001b[0;34m)\u001b[0m\u001b[0;34m:\u001b[0m\u001b[0;34m\u001b[0m\u001b[0;34m\u001b[0m\u001b[0m\n\u001b[1;32m      5\u001b[0m     \u001b[0mtext\u001b[0m\u001b[0;34m=\u001b[0m\u001b[0mx\u001b[0m\u001b[0;34m.\u001b[0m\u001b[0mget_text\u001b[0m\u001b[0;34m(\u001b[0m\u001b[0;34m)\u001b[0m\u001b[0;34m\u001b[0m\u001b[0;34m\u001b[0m\u001b[0m\n",
            "\u001b[0;32m<ipython-input-39-e9f302c7094c>\u001b[0m in \u001b[0;36mdownload_and_soupify\u001b[0;34m(url, parser)\u001b[0m\n\u001b[1;32m      7\u001b[0m         \u001b[0mheaders\u001b[0m \u001b[0;34m=\u001b[0m \u001b[0;34m{\u001b[0m\u001b[0;34m'User-Agent'\u001b[0m\u001b[0;34m:\u001b[0m \u001b[0;34m'Mozilla/5.0 (Windows NT 10.0; Win64; x64) AppleWebKit/537.36 (KHTML, like Gecko) Chrome/58.0.3029.110 Safari/537.3'\u001b[0m\u001b[0;34m}\u001b[0m\u001b[0;34m\u001b[0m\u001b[0;34m\u001b[0m\u001b[0m\n\u001b[1;32m      8\u001b[0m         \u001b[0mreq\u001b[0m \u001b[0;34m=\u001b[0m \u001b[0murllib\u001b[0m\u001b[0;34m.\u001b[0m\u001b[0mrequest\u001b[0m\u001b[0;34m.\u001b[0m\u001b[0mRequest\u001b[0m\u001b[0;34m(\u001b[0m\u001b[0mfull_url\u001b[0m\u001b[0;34m,\u001b[0m \u001b[0mheaders\u001b[0m\u001b[0;34m=\u001b[0m\u001b[0mheaders\u001b[0m\u001b[0;34m)\u001b[0m\u001b[0;34m\u001b[0m\u001b[0;34m\u001b[0m\u001b[0m\n\u001b[0;32m----> 9\u001b[0;31m         \u001b[0mresponse\u001b[0m \u001b[0;34m=\u001b[0m \u001b[0murllib\u001b[0m\u001b[0;34m.\u001b[0m\u001b[0mrequest\u001b[0m\u001b[0;34m.\u001b[0m\u001b[0murlopen\u001b[0m\u001b[0;34m(\u001b[0m\u001b[0mreq\u001b[0m\u001b[0;34m)\u001b[0m\u001b[0;34m\u001b[0m\u001b[0;34m\u001b[0m\u001b[0m\n\u001b[0m\u001b[1;32m     10\u001b[0m         \u001b[0mdirectory_html\u001b[0m \u001b[0;34m=\u001b[0m \u001b[0mresponse\u001b[0m\u001b[0;34m.\u001b[0m\u001b[0mread\u001b[0m\u001b[0;34m(\u001b[0m\u001b[0;34m)\u001b[0m\u001b[0;34m\u001b[0m\u001b[0;34m\u001b[0m\u001b[0m\n\u001b[1;32m     11\u001b[0m         \u001b[0mindex_soup\u001b[0m \u001b[0;34m=\u001b[0m \u001b[0mBeautifulSoup\u001b[0m\u001b[0;34m(\u001b[0m\u001b[0mdirectory_html\u001b[0m\u001b[0;34m,\u001b[0m \u001b[0mparser\u001b[0m\u001b[0;34m)\u001b[0m\u001b[0;34m\u001b[0m\u001b[0;34m\u001b[0m\u001b[0m\n",
            "\u001b[0;32m/usr/lib/python3.11/urllib/request.py\u001b[0m in \u001b[0;36murlopen\u001b[0;34m(url, data, timeout, cafile, capath, cadefault, context)\u001b[0m\n\u001b[1;32m    214\u001b[0m     \u001b[0;32melse\u001b[0m\u001b[0;34m:\u001b[0m\u001b[0;34m\u001b[0m\u001b[0;34m\u001b[0m\u001b[0m\n\u001b[1;32m    215\u001b[0m         \u001b[0mopener\u001b[0m \u001b[0;34m=\u001b[0m \u001b[0m_opener\u001b[0m\u001b[0;34m\u001b[0m\u001b[0;34m\u001b[0m\u001b[0m\n\u001b[0;32m--> 216\u001b[0;31m     \u001b[0;32mreturn\u001b[0m \u001b[0mopener\u001b[0m\u001b[0;34m.\u001b[0m\u001b[0mopen\u001b[0m\u001b[0;34m(\u001b[0m\u001b[0murl\u001b[0m\u001b[0;34m,\u001b[0m \u001b[0mdata\u001b[0m\u001b[0;34m,\u001b[0m \u001b[0mtimeout\u001b[0m\u001b[0;34m)\u001b[0m\u001b[0;34m\u001b[0m\u001b[0;34m\u001b[0m\u001b[0m\n\u001b[0m\u001b[1;32m    217\u001b[0m \u001b[0;34m\u001b[0m\u001b[0m\n\u001b[1;32m    218\u001b[0m \u001b[0;32mdef\u001b[0m \u001b[0minstall_opener\u001b[0m\u001b[0;34m(\u001b[0m\u001b[0mopener\u001b[0m\u001b[0;34m)\u001b[0m\u001b[0;34m:\u001b[0m\u001b[0;34m\u001b[0m\u001b[0;34m\u001b[0m\u001b[0m\n",
            "\u001b[0;32m/usr/lib/python3.11/urllib/request.py\u001b[0m in \u001b[0;36mopen\u001b[0;34m(self, fullurl, data, timeout)\u001b[0m\n\u001b[1;32m    517\u001b[0m \u001b[0;34m\u001b[0m\u001b[0m\n\u001b[1;32m    518\u001b[0m         \u001b[0msys\u001b[0m\u001b[0;34m.\u001b[0m\u001b[0maudit\u001b[0m\u001b[0;34m(\u001b[0m\u001b[0;34m'urllib.Request'\u001b[0m\u001b[0;34m,\u001b[0m \u001b[0mreq\u001b[0m\u001b[0;34m.\u001b[0m\u001b[0mfull_url\u001b[0m\u001b[0;34m,\u001b[0m \u001b[0mreq\u001b[0m\u001b[0;34m.\u001b[0m\u001b[0mdata\u001b[0m\u001b[0;34m,\u001b[0m \u001b[0mreq\u001b[0m\u001b[0;34m.\u001b[0m\u001b[0mheaders\u001b[0m\u001b[0;34m,\u001b[0m \u001b[0mreq\u001b[0m\u001b[0;34m.\u001b[0m\u001b[0mget_method\u001b[0m\u001b[0;34m(\u001b[0m\u001b[0;34m)\u001b[0m\u001b[0;34m)\u001b[0m\u001b[0;34m\u001b[0m\u001b[0;34m\u001b[0m\u001b[0m\n\u001b[0;32m--> 519\u001b[0;31m         \u001b[0mresponse\u001b[0m \u001b[0;34m=\u001b[0m \u001b[0mself\u001b[0m\u001b[0;34m.\u001b[0m\u001b[0m_open\u001b[0m\u001b[0;34m(\u001b[0m\u001b[0mreq\u001b[0m\u001b[0;34m,\u001b[0m \u001b[0mdata\u001b[0m\u001b[0;34m)\u001b[0m\u001b[0;34m\u001b[0m\u001b[0;34m\u001b[0m\u001b[0m\n\u001b[0m\u001b[1;32m    520\u001b[0m \u001b[0;34m\u001b[0m\u001b[0m\n\u001b[1;32m    521\u001b[0m         \u001b[0;31m# post-process response\u001b[0m\u001b[0;34m\u001b[0m\u001b[0;34m\u001b[0m\u001b[0m\n",
            "\u001b[0;32m/usr/lib/python3.11/urllib/request.py\u001b[0m in \u001b[0;36m_open\u001b[0;34m(self, req, data)\u001b[0m\n\u001b[1;32m    534\u001b[0m \u001b[0;34m\u001b[0m\u001b[0m\n\u001b[1;32m    535\u001b[0m         \u001b[0mprotocol\u001b[0m \u001b[0;34m=\u001b[0m \u001b[0mreq\u001b[0m\u001b[0;34m.\u001b[0m\u001b[0mtype\u001b[0m\u001b[0;34m\u001b[0m\u001b[0;34m\u001b[0m\u001b[0m\n\u001b[0;32m--> 536\u001b[0;31m         result = self._call_chain(self.handle_open, protocol, protocol +\n\u001b[0m\u001b[1;32m    537\u001b[0m                                   '_open', req)\n\u001b[1;32m    538\u001b[0m         \u001b[0;32mif\u001b[0m \u001b[0mresult\u001b[0m\u001b[0;34m:\u001b[0m\u001b[0;34m\u001b[0m\u001b[0;34m\u001b[0m\u001b[0m\n",
            "\u001b[0;32m/usr/lib/python3.11/urllib/request.py\u001b[0m in \u001b[0;36m_call_chain\u001b[0;34m(self, chain, kind, meth_name, *args)\u001b[0m\n\u001b[1;32m    494\u001b[0m         \u001b[0;32mfor\u001b[0m \u001b[0mhandler\u001b[0m \u001b[0;32min\u001b[0m \u001b[0mhandlers\u001b[0m\u001b[0;34m:\u001b[0m\u001b[0;34m\u001b[0m\u001b[0;34m\u001b[0m\u001b[0m\n\u001b[1;32m    495\u001b[0m             \u001b[0mfunc\u001b[0m \u001b[0;34m=\u001b[0m \u001b[0mgetattr\u001b[0m\u001b[0;34m(\u001b[0m\u001b[0mhandler\u001b[0m\u001b[0;34m,\u001b[0m \u001b[0mmeth_name\u001b[0m\u001b[0;34m)\u001b[0m\u001b[0;34m\u001b[0m\u001b[0;34m\u001b[0m\u001b[0m\n\u001b[0;32m--> 496\u001b[0;31m             \u001b[0mresult\u001b[0m \u001b[0;34m=\u001b[0m \u001b[0mfunc\u001b[0m\u001b[0;34m(\u001b[0m\u001b[0;34m*\u001b[0m\u001b[0margs\u001b[0m\u001b[0;34m)\u001b[0m\u001b[0;34m\u001b[0m\u001b[0;34m\u001b[0m\u001b[0m\n\u001b[0m\u001b[1;32m    497\u001b[0m             \u001b[0;32mif\u001b[0m \u001b[0mresult\u001b[0m \u001b[0;32mis\u001b[0m \u001b[0;32mnot\u001b[0m \u001b[0;32mNone\u001b[0m\u001b[0;34m:\u001b[0m\u001b[0;34m\u001b[0m\u001b[0;34m\u001b[0m\u001b[0m\n\u001b[1;32m    498\u001b[0m                 \u001b[0;32mreturn\u001b[0m \u001b[0mresult\u001b[0m\u001b[0;34m\u001b[0m\u001b[0;34m\u001b[0m\u001b[0m\n",
            "\u001b[0;32m/usr/lib/python3.11/urllib/request.py\u001b[0m in \u001b[0;36mhttps_open\u001b[0;34m(self, req)\u001b[0m\n\u001b[1;32m   1389\u001b[0m \u001b[0;34m\u001b[0m\u001b[0m\n\u001b[1;32m   1390\u001b[0m         \u001b[0;32mdef\u001b[0m \u001b[0mhttps_open\u001b[0m\u001b[0;34m(\u001b[0m\u001b[0mself\u001b[0m\u001b[0;34m,\u001b[0m \u001b[0mreq\u001b[0m\u001b[0;34m)\u001b[0m\u001b[0;34m:\u001b[0m\u001b[0;34m\u001b[0m\u001b[0;34m\u001b[0m\u001b[0m\n\u001b[0;32m-> 1391\u001b[0;31m             return self.do_open(http.client.HTTPSConnection, req,\n\u001b[0m\u001b[1;32m   1392\u001b[0m                 context=self._context, check_hostname=self._check_hostname)\n\u001b[1;32m   1393\u001b[0m \u001b[0;34m\u001b[0m\u001b[0m\n",
            "\u001b[0;32m/usr/lib/python3.11/urllib/request.py\u001b[0m in \u001b[0;36mdo_open\u001b[0;34m(self, http_class, req, **http_conn_args)\u001b[0m\n\u001b[1;32m   1350\u001b[0m             \u001b[0;32mexcept\u001b[0m \u001b[0mOSError\u001b[0m \u001b[0;32mas\u001b[0m \u001b[0merr\u001b[0m\u001b[0;34m:\u001b[0m \u001b[0;31m# timeout error\u001b[0m\u001b[0;34m\u001b[0m\u001b[0;34m\u001b[0m\u001b[0m\n\u001b[1;32m   1351\u001b[0m                 \u001b[0;32mraise\u001b[0m \u001b[0mURLError\u001b[0m\u001b[0;34m(\u001b[0m\u001b[0merr\u001b[0m\u001b[0;34m)\u001b[0m\u001b[0;34m\u001b[0m\u001b[0;34m\u001b[0m\u001b[0m\n\u001b[0;32m-> 1352\u001b[0;31m             \u001b[0mr\u001b[0m \u001b[0;34m=\u001b[0m \u001b[0mh\u001b[0m\u001b[0;34m.\u001b[0m\u001b[0mgetresponse\u001b[0m\u001b[0;34m(\u001b[0m\u001b[0;34m)\u001b[0m\u001b[0;34m\u001b[0m\u001b[0;34m\u001b[0m\u001b[0m\n\u001b[0m\u001b[1;32m   1353\u001b[0m         \u001b[0;32mexcept\u001b[0m\u001b[0;34m:\u001b[0m\u001b[0;34m\u001b[0m\u001b[0;34m\u001b[0m\u001b[0m\n\u001b[1;32m   1354\u001b[0m             \u001b[0mh\u001b[0m\u001b[0;34m.\u001b[0m\u001b[0mclose\u001b[0m\u001b[0;34m(\u001b[0m\u001b[0;34m)\u001b[0m\u001b[0;34m\u001b[0m\u001b[0;34m\u001b[0m\u001b[0m\n",
            "\u001b[0;32m/usr/lib/python3.11/http/client.py\u001b[0m in \u001b[0;36mgetresponse\u001b[0;34m(self)\u001b[0m\n\u001b[1;32m   1393\u001b[0m         \u001b[0;32mtry\u001b[0m\u001b[0;34m:\u001b[0m\u001b[0;34m\u001b[0m\u001b[0;34m\u001b[0m\u001b[0m\n\u001b[1;32m   1394\u001b[0m             \u001b[0;32mtry\u001b[0m\u001b[0;34m:\u001b[0m\u001b[0;34m\u001b[0m\u001b[0;34m\u001b[0m\u001b[0m\n\u001b[0;32m-> 1395\u001b[0;31m                 \u001b[0mresponse\u001b[0m\u001b[0;34m.\u001b[0m\u001b[0mbegin\u001b[0m\u001b[0;34m(\u001b[0m\u001b[0;34m)\u001b[0m\u001b[0;34m\u001b[0m\u001b[0;34m\u001b[0m\u001b[0m\n\u001b[0m\u001b[1;32m   1396\u001b[0m             \u001b[0;32mexcept\u001b[0m \u001b[0mConnectionError\u001b[0m\u001b[0;34m:\u001b[0m\u001b[0;34m\u001b[0m\u001b[0;34m\u001b[0m\u001b[0m\n\u001b[1;32m   1397\u001b[0m                 \u001b[0mself\u001b[0m\u001b[0;34m.\u001b[0m\u001b[0mclose\u001b[0m\u001b[0;34m(\u001b[0m\u001b[0;34m)\u001b[0m\u001b[0;34m\u001b[0m\u001b[0;34m\u001b[0m\u001b[0m\n",
            "\u001b[0;32m/usr/lib/python3.11/http/client.py\u001b[0m in \u001b[0;36mbegin\u001b[0;34m(self)\u001b[0m\n\u001b[1;32m    323\u001b[0m         \u001b[0;31m# read until we get a non-100 response\u001b[0m\u001b[0;34m\u001b[0m\u001b[0;34m\u001b[0m\u001b[0m\n\u001b[1;32m    324\u001b[0m         \u001b[0;32mwhile\u001b[0m \u001b[0;32mTrue\u001b[0m\u001b[0;34m:\u001b[0m\u001b[0;34m\u001b[0m\u001b[0;34m\u001b[0m\u001b[0m\n\u001b[0;32m--> 325\u001b[0;31m             \u001b[0mversion\u001b[0m\u001b[0;34m,\u001b[0m \u001b[0mstatus\u001b[0m\u001b[0;34m,\u001b[0m \u001b[0mreason\u001b[0m \u001b[0;34m=\u001b[0m \u001b[0mself\u001b[0m\u001b[0;34m.\u001b[0m\u001b[0m_read_status\u001b[0m\u001b[0;34m(\u001b[0m\u001b[0;34m)\u001b[0m\u001b[0;34m\u001b[0m\u001b[0;34m\u001b[0m\u001b[0m\n\u001b[0m\u001b[1;32m    326\u001b[0m             \u001b[0;32mif\u001b[0m \u001b[0mstatus\u001b[0m \u001b[0;34m!=\u001b[0m \u001b[0mCONTINUE\u001b[0m\u001b[0;34m:\u001b[0m\u001b[0;34m\u001b[0m\u001b[0;34m\u001b[0m\u001b[0m\n\u001b[1;32m    327\u001b[0m                 \u001b[0;32mbreak\u001b[0m\u001b[0;34m\u001b[0m\u001b[0;34m\u001b[0m\u001b[0m\n",
            "\u001b[0;32m/usr/lib/python3.11/http/client.py\u001b[0m in \u001b[0;36m_read_status\u001b[0;34m(self)\u001b[0m\n\u001b[1;32m    284\u001b[0m \u001b[0;34m\u001b[0m\u001b[0m\n\u001b[1;32m    285\u001b[0m     \u001b[0;32mdef\u001b[0m \u001b[0m_read_status\u001b[0m\u001b[0;34m(\u001b[0m\u001b[0mself\u001b[0m\u001b[0;34m)\u001b[0m\u001b[0;34m:\u001b[0m\u001b[0;34m\u001b[0m\u001b[0;34m\u001b[0m\u001b[0m\n\u001b[0;32m--> 286\u001b[0;31m         \u001b[0mline\u001b[0m \u001b[0;34m=\u001b[0m \u001b[0mstr\u001b[0m\u001b[0;34m(\u001b[0m\u001b[0mself\u001b[0m\u001b[0;34m.\u001b[0m\u001b[0mfp\u001b[0m\u001b[0;34m.\u001b[0m\u001b[0mreadline\u001b[0m\u001b[0;34m(\u001b[0m\u001b[0m_MAXLINE\u001b[0m \u001b[0;34m+\u001b[0m \u001b[0;36m1\u001b[0m\u001b[0;34m)\u001b[0m\u001b[0;34m,\u001b[0m \u001b[0;34m\"iso-8859-1\"\u001b[0m\u001b[0;34m)\u001b[0m\u001b[0;34m\u001b[0m\u001b[0;34m\u001b[0m\u001b[0m\n\u001b[0m\u001b[1;32m    287\u001b[0m         \u001b[0;32mif\u001b[0m \u001b[0mlen\u001b[0m\u001b[0;34m(\u001b[0m\u001b[0mline\u001b[0m\u001b[0;34m)\u001b[0m \u001b[0;34m>\u001b[0m \u001b[0m_MAXLINE\u001b[0m\u001b[0;34m:\u001b[0m\u001b[0;34m\u001b[0m\u001b[0;34m\u001b[0m\u001b[0m\n\u001b[1;32m    288\u001b[0m             \u001b[0;32mraise\u001b[0m \u001b[0mLineTooLong\u001b[0m\u001b[0;34m(\u001b[0m\u001b[0;34m\"status line\"\u001b[0m\u001b[0;34m)\u001b[0m\u001b[0;34m\u001b[0m\u001b[0;34m\u001b[0m\u001b[0m\n",
            "\u001b[0;32m/usr/lib/python3.11/socket.py\u001b[0m in \u001b[0;36mreadinto\u001b[0;34m(self, b)\u001b[0m\n\u001b[1;32m    716\u001b[0m         \u001b[0;32mwhile\u001b[0m \u001b[0;32mTrue\u001b[0m\u001b[0;34m:\u001b[0m\u001b[0;34m\u001b[0m\u001b[0;34m\u001b[0m\u001b[0m\n\u001b[1;32m    717\u001b[0m             \u001b[0;32mtry\u001b[0m\u001b[0;34m:\u001b[0m\u001b[0;34m\u001b[0m\u001b[0;34m\u001b[0m\u001b[0m\n\u001b[0;32m--> 718\u001b[0;31m                 \u001b[0;32mreturn\u001b[0m \u001b[0mself\u001b[0m\u001b[0;34m.\u001b[0m\u001b[0m_sock\u001b[0m\u001b[0;34m.\u001b[0m\u001b[0mrecv_into\u001b[0m\u001b[0;34m(\u001b[0m\u001b[0mb\u001b[0m\u001b[0;34m)\u001b[0m\u001b[0;34m\u001b[0m\u001b[0;34m\u001b[0m\u001b[0m\n\u001b[0m\u001b[1;32m    719\u001b[0m             \u001b[0;32mexcept\u001b[0m \u001b[0mtimeout\u001b[0m\u001b[0;34m:\u001b[0m\u001b[0;34m\u001b[0m\u001b[0;34m\u001b[0m\u001b[0m\n\u001b[1;32m    720\u001b[0m                 \u001b[0mself\u001b[0m\u001b[0;34m.\u001b[0m\u001b[0m_timeout_occurred\u001b[0m \u001b[0;34m=\u001b[0m \u001b[0;32mTrue\u001b[0m\u001b[0;34m\u001b[0m\u001b[0;34m\u001b[0m\u001b[0m\n",
            "\u001b[0;32m/usr/lib/python3.11/ssl.py\u001b[0m in \u001b[0;36mrecv_into\u001b[0;34m(self, buffer, nbytes, flags)\u001b[0m\n\u001b[1;32m   1312\u001b[0m                   \u001b[0;34m\"non-zero flags not allowed in calls to recv_into() on %s\"\u001b[0m \u001b[0;34m%\u001b[0m\u001b[0;34m\u001b[0m\u001b[0;34m\u001b[0m\u001b[0m\n\u001b[1;32m   1313\u001b[0m                   self.__class__)\n\u001b[0;32m-> 1314\u001b[0;31m             \u001b[0;32mreturn\u001b[0m \u001b[0mself\u001b[0m\u001b[0;34m.\u001b[0m\u001b[0mread\u001b[0m\u001b[0;34m(\u001b[0m\u001b[0mnbytes\u001b[0m\u001b[0;34m,\u001b[0m \u001b[0mbuffer\u001b[0m\u001b[0;34m)\u001b[0m\u001b[0;34m\u001b[0m\u001b[0;34m\u001b[0m\u001b[0m\n\u001b[0m\u001b[1;32m   1315\u001b[0m         \u001b[0;32melse\u001b[0m\u001b[0;34m:\u001b[0m\u001b[0;34m\u001b[0m\u001b[0;34m\u001b[0m\u001b[0m\n\u001b[1;32m   1316\u001b[0m             \u001b[0;32mreturn\u001b[0m \u001b[0msuper\u001b[0m\u001b[0;34m(\u001b[0m\u001b[0;34m)\u001b[0m\u001b[0;34m.\u001b[0m\u001b[0mrecv_into\u001b[0m\u001b[0;34m(\u001b[0m\u001b[0mbuffer\u001b[0m\u001b[0;34m,\u001b[0m \u001b[0mnbytes\u001b[0m\u001b[0;34m,\u001b[0m \u001b[0mflags\u001b[0m\u001b[0;34m)\u001b[0m\u001b[0;34m\u001b[0m\u001b[0;34m\u001b[0m\u001b[0m\n",
            "\u001b[0;32m/usr/lib/python3.11/ssl.py\u001b[0m in \u001b[0;36mread\u001b[0;34m(self, len, buffer)\u001b[0m\n\u001b[1;32m   1164\u001b[0m         \u001b[0;32mtry\u001b[0m\u001b[0;34m:\u001b[0m\u001b[0;34m\u001b[0m\u001b[0;34m\u001b[0m\u001b[0m\n\u001b[1;32m   1165\u001b[0m             \u001b[0;32mif\u001b[0m \u001b[0mbuffer\u001b[0m \u001b[0;32mis\u001b[0m \u001b[0;32mnot\u001b[0m \u001b[0;32mNone\u001b[0m\u001b[0;34m:\u001b[0m\u001b[0;34m\u001b[0m\u001b[0;34m\u001b[0m\u001b[0m\n\u001b[0;32m-> 1166\u001b[0;31m                 \u001b[0;32mreturn\u001b[0m \u001b[0mself\u001b[0m\u001b[0;34m.\u001b[0m\u001b[0m_sslobj\u001b[0m\u001b[0;34m.\u001b[0m\u001b[0mread\u001b[0m\u001b[0;34m(\u001b[0m\u001b[0mlen\u001b[0m\u001b[0;34m,\u001b[0m \u001b[0mbuffer\u001b[0m\u001b[0;34m)\u001b[0m\u001b[0;34m\u001b[0m\u001b[0;34m\u001b[0m\u001b[0m\n\u001b[0m\u001b[1;32m   1167\u001b[0m             \u001b[0;32melse\u001b[0m\u001b[0;34m:\u001b[0m\u001b[0;34m\u001b[0m\u001b[0;34m\u001b[0m\u001b[0m\n\u001b[1;32m   1168\u001b[0m                 \u001b[0;32mreturn\u001b[0m \u001b[0mself\u001b[0m\u001b[0;34m.\u001b[0m\u001b[0m_sslobj\u001b[0m\u001b[0;34m.\u001b[0m\u001b[0mread\u001b[0m\u001b[0;34m(\u001b[0m\u001b[0mlen\u001b[0m\u001b[0;34m)\u001b[0m\u001b[0;34m\u001b[0m\u001b[0;34m\u001b[0m\u001b[0m\n",
            "\u001b[0;31mKeyboardInterrupt\u001b[0m: "
          ]
        }
      ]
    },
    {
      "cell_type": "code",
      "source": [
        "for i in range(0,len(story_ids)):\n",
        " story_ids_2 = story_ids_2 + story_ids[i]\n",
        "\n",
        "# Adjust on story_ids"
      ],
      "metadata": {
        "id": "shRbBPfa-6au"
      },
      "execution_count": null,
      "outputs": []
    },
    {
      "cell_type": "markdown",
      "source": [
        "**Inside a DataFrame**"
      ],
      "metadata": {
        "id": "X3ohxaQ-FC_e"
      }
    },
    {
      "cell_type": "code",
      "source": [
        "# Dataframe\n",
        "base1 = {'Index_page' : index_page,\n",
        "          'ID' :story_ids_2,\n",
        "          'Date_publication' : date_work,\n",
        "          'Title_and_author' : work_title_authors,\n",
        "          'Language_of_the_work' : work_language,\n",
        "          'Word' : Nbr_words,\n",
        "          'Chapter' : Nbr_chapter\n",
        "          , 'Hits' : Nbr_hits\n",
        "          , 'Requiered_tags' : tags_requiered\n",
        "          , 'Additionnal_tags' : tags_add}\n",
        "base1 = pd.DataFrame(data=base1)\n",
        "base1"
      ],
      "metadata": {
        "id": "geY4rM69yHM9"
      },
      "execution_count": null,
      "outputs": []
    },
    {
      "cell_type": "code",
      "source": [
        "print(\"--- %s seconds ---\" % (time.time() - start_time))"
      ],
      "metadata": {
        "id": "uJI7D73FEnZa"
      },
      "execution_count": null,
      "outputs": []
    },
    {
      "cell_type": "markdown",
      "source": [
        "**Export the DataBase**"
      ],
      "metadata": {
        "id": "biOECddoGNNd"
      }
    },
    {
      "cell_type": "markdown",
      "source": [
        "Download your database on your computer"
      ],
      "metadata": {
        "id": "vU5Cry7_aeiC"
      }
    },
    {
      "cell_type": "code",
      "source": [
        "base_export = base1\n",
        "Name_base = \"base_page_\" + str(Beginning_Page) + \"_to_\" + str(Number_page) + \".csv\"\n",
        "Name_base"
      ],
      "metadata": {
        "id": "wpm5m9tYE2v_"
      },
      "execution_count": null,
      "outputs": []
    },
    {
      "cell_type": "code",
      "source": [
        "\"\"\"\n",
        "from google.colab import files\n",
        "base_export.to_csv(Name_base)\n",
        "files.download(Name_base)\n",
        "\"\"\""
      ],
      "metadata": {
        "id": "WLQtJHmDI2Fw"
      },
      "execution_count": null,
      "outputs": []
    },
    {
      "cell_type": "markdown",
      "source": [
        "Shiny ?"
      ],
      "metadata": {
        "id": "8r4vz2IFJYx9"
      }
    },
    {
      "cell_type": "code",
      "source": [
        "!pip install shiny\n",
        "!shiny create --template dashboard-tips"
      ],
      "metadata": {
        "id": "xfMnFt18JbA8"
      },
      "execution_count": null,
      "outputs": []
    },
    {
      "cell_type": "code",
      "source": [
        "!pip install -r dashboard-tipsdoryane/requirements.txt"
      ],
      "metadata": {
        "collapsed": true,
        "id": "tw1GzUTaMdJU",
        "outputId": "11a4522b-9573-43f7-8587-ea83ca48e9e0",
        "colab": {
          "base_uri": "https://localhost:8080/"
        }
      },
      "execution_count": 61,
      "outputs": [
        {
          "output_type": "stream",
          "name": "stdout",
          "text": [
            "Collecting faicons (from -r dashboard-tipsdoryane/requirements.txt (line 1))\n",
            "  Downloading faicons-0.2.2-py3-none-any.whl.metadata (1.8 kB)\n",
            "Requirement already satisfied: shiny in /usr/local/lib/python3.11/dist-packages (from -r dashboard-tipsdoryane/requirements.txt (line 2)) (1.2.1)\n",
            "Collecting shinywidgets (from -r dashboard-tipsdoryane/requirements.txt (line 3))\n",
            "  Downloading shinywidgets-0.4.2-py3-none-any.whl.metadata (2.2 kB)\n",
            "Requirement already satisfied: plotly in /usr/local/lib/python3.11/dist-packages (from -r dashboard-tipsdoryane/requirements.txt (line 4)) (5.24.1)\n",
            "Requirement already satisfied: pandas in /usr/local/lib/python3.11/dist-packages (from -r dashboard-tipsdoryane/requirements.txt (line 5)) (2.2.2)\n",
            "Collecting ridgeplot (from -r dashboard-tipsdoryane/requirements.txt (line 6))\n",
            "  Downloading ridgeplot-0.3.1-py3-none-any.whl.metadata (10 kB)\n",
            "Requirement already satisfied: htmltools>=0.1.4.9002 in /usr/local/lib/python3.11/dist-packages (from faicons->-r dashboard-tipsdoryane/requirements.txt (line 1)) (0.6.0)\n",
            "Requirement already satisfied: typing-extensions>=4.10.0 in /usr/local/lib/python3.11/dist-packages (from shiny->-r dashboard-tipsdoryane/requirements.txt (line 2)) (4.12.2)\n",
            "Requirement already satisfied: starlette in /usr/local/lib/python3.11/dist-packages (from shiny->-r dashboard-tipsdoryane/requirements.txt (line 2)) (0.45.3)\n",
            "Requirement already satisfied: websockets>=13.0 in /usr/local/lib/python3.11/dist-packages (from shiny->-r dashboard-tipsdoryane/requirements.txt (line 2)) (14.2)\n",
            "Requirement already satisfied: python-multipart in /usr/local/lib/python3.11/dist-packages (from shiny->-r dashboard-tipsdoryane/requirements.txt (line 2)) (0.0.20)\n",
            "Requirement already satisfied: markdown-it-py>=1.1.0 in /usr/local/lib/python3.11/dist-packages (from shiny->-r dashboard-tipsdoryane/requirements.txt (line 2)) (3.0.0)\n",
            "Requirement already satisfied: mdit-py-plugins>=0.3.0 in /usr/local/lib/python3.11/dist-packages (from shiny->-r dashboard-tipsdoryane/requirements.txt (line 2)) (0.4.2)\n",
            "Requirement already satisfied: linkify-it-py>=1.0 in /usr/local/lib/python3.11/dist-packages (from shiny->-r dashboard-tipsdoryane/requirements.txt (line 2)) (2.0.3)\n",
            "Requirement already satisfied: appdirs>=1.4.4 in /usr/local/lib/python3.11/dist-packages (from shiny->-r dashboard-tipsdoryane/requirements.txt (line 2)) (1.4.4)\n",
            "Requirement already satisfied: asgiref>=3.5.2 in /usr/local/lib/python3.11/dist-packages (from shiny->-r dashboard-tipsdoryane/requirements.txt (line 2)) (3.8.1)\n",
            "Requirement already satisfied: packaging>=20.9 in /usr/local/lib/python3.11/dist-packages (from shiny->-r dashboard-tipsdoryane/requirements.txt (line 2)) (24.2)\n",
            "Requirement already satisfied: narwhals>=1.10.0 in /usr/local/lib/python3.11/dist-packages (from shiny->-r dashboard-tipsdoryane/requirements.txt (line 2)) (1.23.0)\n",
            "Requirement already satisfied: orjson>=3.10.7 in /usr/local/lib/python3.11/dist-packages (from shiny->-r dashboard-tipsdoryane/requirements.txt (line 2)) (3.10.15)\n",
            "Requirement already satisfied: uvicorn>=0.16.0 in /usr/local/lib/python3.11/dist-packages (from shiny->-r dashboard-tipsdoryane/requirements.txt (line 2)) (0.34.0)\n",
            "Requirement already satisfied: click>=8.1.4 in /usr/local/lib/python3.11/dist-packages (from shiny->-r dashboard-tipsdoryane/requirements.txt (line 2)) (8.1.8)\n",
            "Requirement already satisfied: watchfiles>=0.18.0 in /usr/local/lib/python3.11/dist-packages (from shiny->-r dashboard-tipsdoryane/requirements.txt (line 2)) (1.0.4)\n",
            "Requirement already satisfied: questionary>=2.0.0 in /usr/local/lib/python3.11/dist-packages (from shiny->-r dashboard-tipsdoryane/requirements.txt (line 2)) (2.1.0)\n",
            "Requirement already satisfied: prompt-toolkit in /usr/local/lib/python3.11/dist-packages (from shiny->-r dashboard-tipsdoryane/requirements.txt (line 2)) (3.0.50)\n",
            "Requirement already satisfied: ipywidgets>=7.6.5 in /usr/local/lib/python3.11/dist-packages (from shinywidgets->-r dashboard-tipsdoryane/requirements.txt (line 3)) (7.7.1)\n",
            "Requirement already satisfied: jupyter_core in /usr/local/lib/python3.11/dist-packages (from shinywidgets->-r dashboard-tipsdoryane/requirements.txt (line 3)) (5.7.2)\n",
            "Requirement already satisfied: python-dateutil>=2.8.2 in /usr/local/lib/python3.11/dist-packages (from shinywidgets->-r dashboard-tipsdoryane/requirements.txt (line 3)) (2.8.2)\n",
            "Requirement already satisfied: tenacity>=6.2.0 in /usr/local/lib/python3.11/dist-packages (from plotly->-r dashboard-tipsdoryane/requirements.txt (line 4)) (9.0.0)\n",
            "Requirement already satisfied: numpy>=1.23.2 in /usr/local/lib/python3.11/dist-packages (from pandas->-r dashboard-tipsdoryane/requirements.txt (line 5)) (1.26.4)\n",
            "Requirement already satisfied: pytz>=2020.1 in /usr/local/lib/python3.11/dist-packages (from pandas->-r dashboard-tipsdoryane/requirements.txt (line 5)) (2024.2)\n",
            "Requirement already satisfied: tzdata>=2022.7 in /usr/local/lib/python3.11/dist-packages (from pandas->-r dashboard-tipsdoryane/requirements.txt (line 5)) (2025.1)\n",
            "Requirement already satisfied: statsmodels!=0.14.2,>=0.12 in /usr/local/lib/python3.11/dist-packages (from ridgeplot->-r dashboard-tipsdoryane/requirements.txt (line 6)) (0.14.4)\n",
            "Requirement already satisfied: ipykernel>=4.5.1 in /usr/local/lib/python3.11/dist-packages (from ipywidgets>=7.6.5->shinywidgets->-r dashboard-tipsdoryane/requirements.txt (line 3)) (5.5.6)\n",
            "Requirement already satisfied: ipython-genutils~=0.2.0 in /usr/local/lib/python3.11/dist-packages (from ipywidgets>=7.6.5->shinywidgets->-r dashboard-tipsdoryane/requirements.txt (line 3)) (0.2.0)\n",
            "Requirement already satisfied: traitlets>=4.3.1 in /usr/local/lib/python3.11/dist-packages (from ipywidgets>=7.6.5->shinywidgets->-r dashboard-tipsdoryane/requirements.txt (line 3)) (5.7.1)\n",
            "Requirement already satisfied: widgetsnbextension~=3.6.0 in /usr/local/lib/python3.11/dist-packages (from ipywidgets>=7.6.5->shinywidgets->-r dashboard-tipsdoryane/requirements.txt (line 3)) (3.6.10)\n",
            "Requirement already satisfied: ipython>=4.0.0 in /usr/local/lib/python3.11/dist-packages (from ipywidgets>=7.6.5->shinywidgets->-r dashboard-tipsdoryane/requirements.txt (line 3)) (7.34.0)\n",
            "Requirement already satisfied: jupyterlab-widgets>=1.0.0 in /usr/local/lib/python3.11/dist-packages (from ipywidgets>=7.6.5->shinywidgets->-r dashboard-tipsdoryane/requirements.txt (line 3)) (3.0.13)\n",
            "Requirement already satisfied: uc-micro-py in /usr/local/lib/python3.11/dist-packages (from linkify-it-py>=1.0->shiny->-r dashboard-tipsdoryane/requirements.txt (line 2)) (1.0.3)\n",
            "Requirement already satisfied: mdurl~=0.1 in /usr/local/lib/python3.11/dist-packages (from markdown-it-py>=1.1.0->shiny->-r dashboard-tipsdoryane/requirements.txt (line 2)) (0.1.2)\n",
            "Requirement already satisfied: six>=1.5 in /usr/local/lib/python3.11/dist-packages (from python-dateutil>=2.8.2->shinywidgets->-r dashboard-tipsdoryane/requirements.txt (line 3)) (1.17.0)\n",
            "Requirement already satisfied: wcwidth in /usr/local/lib/python3.11/dist-packages (from prompt-toolkit->shiny->-r dashboard-tipsdoryane/requirements.txt (line 2)) (0.2.13)\n",
            "Requirement already satisfied: scipy!=1.9.2,>=1.8 in /usr/local/lib/python3.11/dist-packages (from statsmodels!=0.14.2,>=0.12->ridgeplot->-r dashboard-tipsdoryane/requirements.txt (line 6)) (1.13.1)\n",
            "Requirement already satisfied: patsy>=0.5.6 in /usr/local/lib/python3.11/dist-packages (from statsmodels!=0.14.2,>=0.12->ridgeplot->-r dashboard-tipsdoryane/requirements.txt (line 6)) (1.0.1)\n",
            "Requirement already satisfied: h11>=0.8 in /usr/local/lib/python3.11/dist-packages (from uvicorn>=0.16.0->shiny->-r dashboard-tipsdoryane/requirements.txt (line 2)) (0.14.0)\n",
            "Requirement already satisfied: anyio>=3.0.0 in /usr/local/lib/python3.11/dist-packages (from watchfiles>=0.18.0->shiny->-r dashboard-tipsdoryane/requirements.txt (line 2)) (3.7.1)\n",
            "Requirement already satisfied: platformdirs>=2.5 in /usr/local/lib/python3.11/dist-packages (from jupyter_core->shinywidgets->-r dashboard-tipsdoryane/requirements.txt (line 3)) (4.3.6)\n",
            "Requirement already satisfied: idna>=2.8 in /usr/local/lib/python3.11/dist-packages (from anyio>=3.0.0->watchfiles>=0.18.0->shiny->-r dashboard-tipsdoryane/requirements.txt (line 2)) (3.10)\n",
            "Requirement already satisfied: sniffio>=1.1 in /usr/local/lib/python3.11/dist-packages (from anyio>=3.0.0->watchfiles>=0.18.0->shiny->-r dashboard-tipsdoryane/requirements.txt (line 2)) (1.3.1)\n",
            "Requirement already satisfied: jupyter-client in /usr/local/lib/python3.11/dist-packages (from ipykernel>=4.5.1->ipywidgets>=7.6.5->shinywidgets->-r dashboard-tipsdoryane/requirements.txt (line 3)) (6.1.12)\n",
            "Requirement already satisfied: tornado>=4.2 in /usr/local/lib/python3.11/dist-packages (from ipykernel>=4.5.1->ipywidgets>=7.6.5->shinywidgets->-r dashboard-tipsdoryane/requirements.txt (line 3)) (6.3.3)\n",
            "Requirement already satisfied: setuptools>=18.5 in /usr/local/lib/python3.11/dist-packages (from ipython>=4.0.0->ipywidgets>=7.6.5->shinywidgets->-r dashboard-tipsdoryane/requirements.txt (line 3)) (75.1.0)\n",
            "Collecting jedi>=0.16 (from ipython>=4.0.0->ipywidgets>=7.6.5->shinywidgets->-r dashboard-tipsdoryane/requirements.txt (line 3))\n",
            "  Downloading jedi-0.19.2-py2.py3-none-any.whl.metadata (22 kB)\n",
            "Requirement already satisfied: decorator in /usr/local/lib/python3.11/dist-packages (from ipython>=4.0.0->ipywidgets>=7.6.5->shinywidgets->-r dashboard-tipsdoryane/requirements.txt (line 3)) (4.4.2)\n",
            "Requirement already satisfied: pickleshare in /usr/local/lib/python3.11/dist-packages (from ipython>=4.0.0->ipywidgets>=7.6.5->shinywidgets->-r dashboard-tipsdoryane/requirements.txt (line 3)) (0.7.5)\n",
            "Requirement already satisfied: pygments in /usr/local/lib/python3.11/dist-packages (from ipython>=4.0.0->ipywidgets>=7.6.5->shinywidgets->-r dashboard-tipsdoryane/requirements.txt (line 3)) (2.18.0)\n",
            "Requirement already satisfied: backcall in /usr/local/lib/python3.11/dist-packages (from ipython>=4.0.0->ipywidgets>=7.6.5->shinywidgets->-r dashboard-tipsdoryane/requirements.txt (line 3)) (0.2.0)\n",
            "Requirement already satisfied: matplotlib-inline in /usr/local/lib/python3.11/dist-packages (from ipython>=4.0.0->ipywidgets>=7.6.5->shinywidgets->-r dashboard-tipsdoryane/requirements.txt (line 3)) (0.1.7)\n",
            "Requirement already satisfied: pexpect>4.3 in /usr/local/lib/python3.11/dist-packages (from ipython>=4.0.0->ipywidgets>=7.6.5->shinywidgets->-r dashboard-tipsdoryane/requirements.txt (line 3)) (4.9.0)\n",
            "Requirement already satisfied: notebook>=4.4.1 in /usr/local/lib/python3.11/dist-packages (from widgetsnbextension~=3.6.0->ipywidgets>=7.6.5->shinywidgets->-r dashboard-tipsdoryane/requirements.txt (line 3)) (6.5.5)\n",
            "Requirement already satisfied: parso<0.9.0,>=0.8.4 in /usr/local/lib/python3.11/dist-packages (from jedi>=0.16->ipython>=4.0.0->ipywidgets>=7.6.5->shinywidgets->-r dashboard-tipsdoryane/requirements.txt (line 3)) (0.8.4)\n",
            "Requirement already satisfied: jinja2 in /usr/local/lib/python3.11/dist-packages (from notebook>=4.4.1->widgetsnbextension~=3.6.0->ipywidgets>=7.6.5->shinywidgets->-r dashboard-tipsdoryane/requirements.txt (line 3)) (3.1.5)\n",
            "Requirement already satisfied: pyzmq<25,>=17 in /usr/local/lib/python3.11/dist-packages (from notebook>=4.4.1->widgetsnbextension~=3.6.0->ipywidgets>=7.6.5->shinywidgets->-r dashboard-tipsdoryane/requirements.txt (line 3)) (24.0.1)\n",
            "Requirement already satisfied: argon2-cffi in /usr/local/lib/python3.11/dist-packages (from notebook>=4.4.1->widgetsnbextension~=3.6.0->ipywidgets>=7.6.5->shinywidgets->-r dashboard-tipsdoryane/requirements.txt (line 3)) (23.1.0)\n",
            "Requirement already satisfied: nbformat in /usr/local/lib/python3.11/dist-packages (from notebook>=4.4.1->widgetsnbextension~=3.6.0->ipywidgets>=7.6.5->shinywidgets->-r dashboard-tipsdoryane/requirements.txt (line 3)) (5.10.4)\n",
            "Requirement already satisfied: nbconvert>=5 in /usr/local/lib/python3.11/dist-packages (from notebook>=4.4.1->widgetsnbextension~=3.6.0->ipywidgets>=7.6.5->shinywidgets->-r dashboard-tipsdoryane/requirements.txt (line 3)) (7.16.5)\n",
            "Requirement already satisfied: nest-asyncio>=1.5 in /usr/local/lib/python3.11/dist-packages (from notebook>=4.4.1->widgetsnbextension~=3.6.0->ipywidgets>=7.6.5->shinywidgets->-r dashboard-tipsdoryane/requirements.txt (line 3)) (1.6.0)\n",
            "Requirement already satisfied: Send2Trash>=1.8.0 in /usr/local/lib/python3.11/dist-packages (from notebook>=4.4.1->widgetsnbextension~=3.6.0->ipywidgets>=7.6.5->shinywidgets->-r dashboard-tipsdoryane/requirements.txt (line 3)) (1.8.3)\n",
            "Requirement already satisfied: terminado>=0.8.3 in /usr/local/lib/python3.11/dist-packages (from notebook>=4.4.1->widgetsnbextension~=3.6.0->ipywidgets>=7.6.5->shinywidgets->-r dashboard-tipsdoryane/requirements.txt (line 3)) (0.18.1)\n",
            "Requirement already satisfied: prometheus-client in /usr/local/lib/python3.11/dist-packages (from notebook>=4.4.1->widgetsnbextension~=3.6.0->ipywidgets>=7.6.5->shinywidgets->-r dashboard-tipsdoryane/requirements.txt (line 3)) (0.21.1)\n",
            "Requirement already satisfied: nbclassic>=0.4.7 in /usr/local/lib/python3.11/dist-packages (from notebook>=4.4.1->widgetsnbextension~=3.6.0->ipywidgets>=7.6.5->shinywidgets->-r dashboard-tipsdoryane/requirements.txt (line 3)) (1.2.0)\n",
            "Requirement already satisfied: ptyprocess>=0.5 in /usr/local/lib/python3.11/dist-packages (from pexpect>4.3->ipython>=4.0.0->ipywidgets>=7.6.5->shinywidgets->-r dashboard-tipsdoryane/requirements.txt (line 3)) (0.7.0)\n",
            "Requirement already satisfied: notebook-shim>=0.2.3 in /usr/local/lib/python3.11/dist-packages (from nbclassic>=0.4.7->notebook>=4.4.1->widgetsnbextension~=3.6.0->ipywidgets>=7.6.5->shinywidgets->-r dashboard-tipsdoryane/requirements.txt (line 3)) (0.2.4)\n",
            "Requirement already satisfied: beautifulsoup4 in /usr/local/lib/python3.11/dist-packages (from nbconvert>=5->notebook>=4.4.1->widgetsnbextension~=3.6.0->ipywidgets>=7.6.5->shinywidgets->-r dashboard-tipsdoryane/requirements.txt (line 3)) (4.12.3)\n",
            "Requirement already satisfied: bleach!=5.0.0 in /usr/local/lib/python3.11/dist-packages (from bleach[css]!=5.0.0->nbconvert>=5->notebook>=4.4.1->widgetsnbextension~=3.6.0->ipywidgets>=7.6.5->shinywidgets->-r dashboard-tipsdoryane/requirements.txt (line 3)) (6.2.0)\n",
            "Requirement already satisfied: defusedxml in /usr/local/lib/python3.11/dist-packages (from nbconvert>=5->notebook>=4.4.1->widgetsnbextension~=3.6.0->ipywidgets>=7.6.5->shinywidgets->-r dashboard-tipsdoryane/requirements.txt (line 3)) (0.7.1)\n",
            "Requirement already satisfied: jupyterlab-pygments in /usr/local/lib/python3.11/dist-packages (from nbconvert>=5->notebook>=4.4.1->widgetsnbextension~=3.6.0->ipywidgets>=7.6.5->shinywidgets->-r dashboard-tipsdoryane/requirements.txt (line 3)) (0.3.0)\n",
            "Requirement already satisfied: markupsafe>=2.0 in /usr/local/lib/python3.11/dist-packages (from nbconvert>=5->notebook>=4.4.1->widgetsnbextension~=3.6.0->ipywidgets>=7.6.5->shinywidgets->-r dashboard-tipsdoryane/requirements.txt (line 3)) (3.0.2)\n",
            "Requirement already satisfied: mistune<4,>=2.0.3 in /usr/local/lib/python3.11/dist-packages (from nbconvert>=5->notebook>=4.4.1->widgetsnbextension~=3.6.0->ipywidgets>=7.6.5->shinywidgets->-r dashboard-tipsdoryane/requirements.txt (line 3)) (3.1.0)\n",
            "Requirement already satisfied: nbclient>=0.5.0 in /usr/local/lib/python3.11/dist-packages (from nbconvert>=5->notebook>=4.4.1->widgetsnbextension~=3.6.0->ipywidgets>=7.6.5->shinywidgets->-r dashboard-tipsdoryane/requirements.txt (line 3)) (0.10.2)\n",
            "Requirement already satisfied: pandocfilters>=1.4.1 in /usr/local/lib/python3.11/dist-packages (from nbconvert>=5->notebook>=4.4.1->widgetsnbextension~=3.6.0->ipywidgets>=7.6.5->shinywidgets->-r dashboard-tipsdoryane/requirements.txt (line 3)) (1.5.1)\n",
            "Requirement already satisfied: fastjsonschema>=2.15 in /usr/local/lib/python3.11/dist-packages (from nbformat->notebook>=4.4.1->widgetsnbextension~=3.6.0->ipywidgets>=7.6.5->shinywidgets->-r dashboard-tipsdoryane/requirements.txt (line 3)) (2.21.1)\n",
            "Requirement already satisfied: jsonschema>=2.6 in /usr/local/lib/python3.11/dist-packages (from nbformat->notebook>=4.4.1->widgetsnbextension~=3.6.0->ipywidgets>=7.6.5->shinywidgets->-r dashboard-tipsdoryane/requirements.txt (line 3)) (4.23.0)\n",
            "Requirement already satisfied: argon2-cffi-bindings in /usr/local/lib/python3.11/dist-packages (from argon2-cffi->notebook>=4.4.1->widgetsnbextension~=3.6.0->ipywidgets>=7.6.5->shinywidgets->-r dashboard-tipsdoryane/requirements.txt (line 3)) (21.2.0)\n",
            "Requirement already satisfied: webencodings in /usr/local/lib/python3.11/dist-packages (from bleach!=5.0.0->bleach[css]!=5.0.0->nbconvert>=5->notebook>=4.4.1->widgetsnbextension~=3.6.0->ipywidgets>=7.6.5->shinywidgets->-r dashboard-tipsdoryane/requirements.txt (line 3)) (0.5.1)\n",
            "Requirement already satisfied: tinycss2<1.5,>=1.1.0 in /usr/local/lib/python3.11/dist-packages (from bleach[css]!=5.0.0->nbconvert>=5->notebook>=4.4.1->widgetsnbextension~=3.6.0->ipywidgets>=7.6.5->shinywidgets->-r dashboard-tipsdoryane/requirements.txt (line 3)) (1.4.0)\n",
            "Requirement already satisfied: attrs>=22.2.0 in /usr/local/lib/python3.11/dist-packages (from jsonschema>=2.6->nbformat->notebook>=4.4.1->widgetsnbextension~=3.6.0->ipywidgets>=7.6.5->shinywidgets->-r dashboard-tipsdoryane/requirements.txt (line 3)) (24.3.0)\n",
            "Requirement already satisfied: jsonschema-specifications>=2023.03.6 in /usr/local/lib/python3.11/dist-packages (from jsonschema>=2.6->nbformat->notebook>=4.4.1->widgetsnbextension~=3.6.0->ipywidgets>=7.6.5->shinywidgets->-r dashboard-tipsdoryane/requirements.txt (line 3)) (2024.10.1)\n",
            "Requirement already satisfied: referencing>=0.28.4 in /usr/local/lib/python3.11/dist-packages (from jsonschema>=2.6->nbformat->notebook>=4.4.1->widgetsnbextension~=3.6.0->ipywidgets>=7.6.5->shinywidgets->-r dashboard-tipsdoryane/requirements.txt (line 3)) (0.36.1)\n",
            "Requirement already satisfied: rpds-py>=0.7.1 in /usr/local/lib/python3.11/dist-packages (from jsonschema>=2.6->nbformat->notebook>=4.4.1->widgetsnbextension~=3.6.0->ipywidgets>=7.6.5->shinywidgets->-r dashboard-tipsdoryane/requirements.txt (line 3)) (0.22.3)\n",
            "Requirement already satisfied: jupyter-server<3,>=1.8 in /usr/local/lib/python3.11/dist-packages (from notebook-shim>=0.2.3->nbclassic>=0.4.7->notebook>=4.4.1->widgetsnbextension~=3.6.0->ipywidgets>=7.6.5->shinywidgets->-r dashboard-tipsdoryane/requirements.txt (line 3)) (1.24.0)\n",
            "Requirement already satisfied: cffi>=1.0.1 in /usr/local/lib/python3.11/dist-packages (from argon2-cffi-bindings->argon2-cffi->notebook>=4.4.1->widgetsnbextension~=3.6.0->ipywidgets>=7.6.5->shinywidgets->-r dashboard-tipsdoryane/requirements.txt (line 3)) (1.17.1)\n",
            "Requirement already satisfied: soupsieve>1.2 in /usr/local/lib/python3.11/dist-packages (from beautifulsoup4->nbconvert>=5->notebook>=4.4.1->widgetsnbextension~=3.6.0->ipywidgets>=7.6.5->shinywidgets->-r dashboard-tipsdoryane/requirements.txt (line 3)) (2.6)\n",
            "Requirement already satisfied: pycparser in /usr/local/lib/python3.11/dist-packages (from cffi>=1.0.1->argon2-cffi-bindings->argon2-cffi->notebook>=4.4.1->widgetsnbextension~=3.6.0->ipywidgets>=7.6.5->shinywidgets->-r dashboard-tipsdoryane/requirements.txt (line 3)) (2.22)\n",
            "Requirement already satisfied: websocket-client in /usr/local/lib/python3.11/dist-packages (from jupyter-server<3,>=1.8->notebook-shim>=0.2.3->nbclassic>=0.4.7->notebook>=4.4.1->widgetsnbextension~=3.6.0->ipywidgets>=7.6.5->shinywidgets->-r dashboard-tipsdoryane/requirements.txt (line 3)) (1.8.0)\n",
            "Downloading faicons-0.2.2-py3-none-any.whl (607 kB)\n",
            "\u001b[2K   \u001b[90m━━━━━━━━━━━━━━━━━━━━━━━━━━━━━━━━━━━━━━━━\u001b[0m \u001b[32m607.2/607.2 kB\u001b[0m \u001b[31m21.0 MB/s\u001b[0m eta \u001b[36m0:00:00\u001b[0m\n",
            "\u001b[?25hDownloading shinywidgets-0.4.2-py3-none-any.whl (1.8 MB)\n",
            "\u001b[2K   \u001b[90m━━━━━━━━━━━━━━━━━━━━━━━━━━━━━━━━━━━━━━━━\u001b[0m \u001b[32m1.8/1.8 MB\u001b[0m \u001b[31m13.0 MB/s\u001b[0m eta \u001b[36m0:00:00\u001b[0m\n",
            "\u001b[?25hDownloading ridgeplot-0.3.1-py3-none-any.whl (58 kB)\n",
            "\u001b[2K   \u001b[90m━━━━━━━━━━━━━━━━━━━━━━━━━━━━━━━━━━━━━━━━\u001b[0m \u001b[32m58.5/58.5 kB\u001b[0m \u001b[31m3.7 MB/s\u001b[0m eta \u001b[36m0:00:00\u001b[0m\n",
            "\u001b[?25hDownloading jedi-0.19.2-py2.py3-none-any.whl (1.6 MB)\n",
            "\u001b[2K   \u001b[90m━━━━━━━━━━━━━━━━━━━━━━━━━━━━━━━━━━━━━━━━\u001b[0m \u001b[32m1.6/1.6 MB\u001b[0m \u001b[31m46.6 MB/s\u001b[0m eta \u001b[36m0:00:00\u001b[0m\n",
            "\u001b[?25hInstalling collected packages: jedi, faicons, ridgeplot, shinywidgets\n",
            "Successfully installed faicons-0.2.2 jedi-0.19.2 ridgeplot-0.3.1 shinywidgets-0.4.2\n"
          ]
        }
      ]
    },
    {
      "cell_type": "code",
      "source": [
        "!shiny run dashboard-tipsdoryane/app.py"
      ],
      "metadata": {
        "id": "3B9Z0iofNqJt"
      },
      "execution_count": null,
      "outputs": []
    },
    {
      "cell_type": "code",
      "source": [
        "!pip install shiny pyngrok"
      ],
      "metadata": {
        "id": "ham9BNOaRWwb"
      },
      "execution_count": null,
      "outputs": []
    },
    {
      "cell_type": "code",
      "source": [
        "!pip install shiny pyngrok\n",
        "!pip install flask_ngrok"
      ],
      "metadata": {
        "id": "Ub5UL7nUcqtx"
      },
      "execution_count": null,
      "outputs": []
    },
    {
      "cell_type": "code",
      "source": [
        "!ngrok authtoken 2sE7HpgvNmzZ3nGRtpZAjOxPc8j_8a86AU39jtr2VX4j7uTKS"
      ],
      "metadata": {
        "id": "LGz0ShNgdQpu",
        "outputId": "9200e7e5-da41-4664-9ec7-021085522ff8",
        "colab": {
          "base_uri": "https://localhost:8080/"
        }
      },
      "execution_count": 6,
      "outputs": [
        {
          "output_type": "stream",
          "name": "stdout",
          "text": [
            "Authtoken saved to configuration file: /root/.ngrok2/ngrok.yml\n"
          ]
        }
      ]
    },
    {
      "cell_type": "code",
      "source": [
        "!cd dashboard-tipsdoryane"
      ],
      "metadata": {
        "id": "KUPEP9zFdU3L"
      },
      "execution_count": 7,
      "outputs": []
    },
    {
      "cell_type": "code",
      "source": [
        "from flask_ngrok import run_with_ngrok\n",
        "from flask import Flask, render_template\n",
        "\n",
        "app = Flask(__name__)\n",
        "run_with_ngrok(app)  # Start ngrok when the app is run\n",
        "\n",
        "@app.route('/')\n",
        "def index():\n",
        "  # Replace with your Shiny app's index.html\n",
        "  return render_template('index.html')\n",
        "\n",
        "if __name__ == '__main__':\n",
        "  app.run()"
      ],
      "metadata": {
        "id": "5MJCG0eQdemk",
        "outputId": "9017c6ba-182e-409c-d81f-56f76e2bd7ee",
        "colab": {
          "base_uri": "https://localhost:8080/"
        }
      },
      "execution_count": 8,
      "outputs": [
        {
          "output_type": "stream",
          "name": "stdout",
          "text": [
            " * Serving Flask app '__main__'\n",
            " * Debug mode: off\n"
          ]
        },
        {
          "output_type": "stream",
          "name": "stderr",
          "text": [
            "INFO:werkzeug:\u001b[31m\u001b[1mWARNING: This is a development server. Do not use it in a production deployment. Use a production WSGI server instead.\u001b[0m\n",
            " * Running on http://127.0.0.1:5000\n",
            "INFO:werkzeug:\u001b[33mPress CTRL+C to quit\u001b[0m\n",
            "Exception in thread Thread-14:\n",
            "Traceback (most recent call last):\n",
            "  File \"/usr/local/lib/python3.11/dist-packages/urllib3/connection.py\", line 198, in _new_conn\n",
            "    sock = connection.create_connection(\n",
            "           ^^^^^^^^^^^^^^^^^^^^^^^^^^^^^\n",
            "  File \"/usr/local/lib/python3.11/dist-packages/urllib3/util/connection.py\", line 85, in create_connection\n",
            "    raise err\n",
            "  File \"/usr/local/lib/python3.11/dist-packages/urllib3/util/connection.py\", line 73, in create_connection\n",
            "    sock.connect(sa)\n",
            "ConnectionRefusedError: [Errno 111] Connection refused\n",
            "\n",
            "The above exception was the direct cause of the following exception:\n",
            "\n",
            "Traceback (most recent call last):\n",
            "  File \"/usr/local/lib/python3.11/dist-packages/urllib3/connectionpool.py\", line 787, in urlopen\n",
            "    response = self._make_request(\n",
            "               ^^^^^^^^^^^^^^^^^^^\n",
            "  File \"/usr/local/lib/python3.11/dist-packages/urllib3/connectionpool.py\", line 493, in _make_request\n",
            "    conn.request(\n",
            "  File \"/usr/local/lib/python3.11/dist-packages/urllib3/connection.py\", line 445, in request\n",
            "    self.endheaders()\n",
            "  File \"/usr/lib/python3.11/http/client.py\", line 1298, in endheaders\n",
            "    self._send_output(message_body, encode_chunked=encode_chunked)\n",
            "  File \"/usr/lib/python3.11/http/client.py\", line 1058, in _send_output\n",
            "    self.send(msg)\n",
            "  File \"/usr/lib/python3.11/http/client.py\", line 996, in send\n",
            "    self.connect()\n",
            "  File \"/usr/local/lib/python3.11/dist-packages/urllib3/connection.py\", line 276, in connect\n",
            "    self.sock = self._new_conn()\n",
            "                ^^^^^^^^^^^^^^^^\n",
            "  File \"/usr/local/lib/python3.11/dist-packages/urllib3/connection.py\", line 213, in _new_conn\n",
            "    raise NewConnectionError(\n",
            "urllib3.exceptions.NewConnectionError: <urllib3.connection.HTTPConnection object at 0x7f2ecc8dd310>: Failed to establish a new connection: [Errno 111] Connection refused\n",
            "\n",
            "The above exception was the direct cause of the following exception:\n",
            "\n",
            "Traceback (most recent call last):\n",
            "  File \"/usr/local/lib/python3.11/dist-packages/requests/adapters.py\", line 667, in send\n",
            "    resp = conn.urlopen(\n",
            "           ^^^^^^^^^^^^^\n",
            "  File \"/usr/local/lib/python3.11/dist-packages/urllib3/connectionpool.py\", line 841, in urlopen\n",
            "    retries = retries.increment(\n",
            "              ^^^^^^^^^^^^^^^^^^\n",
            "  File \"/usr/local/lib/python3.11/dist-packages/urllib3/util/retry.py\", line 519, in increment\n",
            "    raise MaxRetryError(_pool, url, reason) from reason  # type: ignore[arg-type]\n",
            "    ^^^^^^^^^^^^^^^^^^^^^^^^^^^^^^^^^^^^^^^^^^^^^^^^^^^\n",
            "urllib3.exceptions.MaxRetryError: HTTPConnectionPool(host='localhost', port=4040): Max retries exceeded with url: /api/tunnels (Caused by NewConnectionError('<urllib3.connection.HTTPConnection object at 0x7f2ecc8dd310>: Failed to establish a new connection: [Errno 111] Connection refused'))\n",
            "\n",
            "During handling of the above exception, another exception occurred:\n",
            "\n",
            "Traceback (most recent call last):\n",
            "  File \"/usr/lib/python3.11/threading.py\", line 1045, in _bootstrap_inner\n",
            "    self.run()\n",
            "  File \"/usr/lib/python3.11/threading.py\", line 1401, in run\n",
            "    self.function(*self.args, **self.kwargs)\n",
            "  File \"/usr/local/lib/python3.11/dist-packages/flask_ngrok.py\", line 70, in start_ngrok\n",
            "    ngrok_address = _run_ngrok()\n",
            "                    ^^^^^^^^^^^^\n",
            "  File \"/usr/local/lib/python3.11/dist-packages/flask_ngrok.py\", line 35, in _run_ngrok\n",
            "    tunnel_url = requests.get(localhost_url).text  # Get the tunnel information\n",
            "                 ^^^^^^^^^^^^^^^^^^^^^^^^^^^\n",
            "  File \"/usr/local/lib/python3.11/dist-packages/requests/api.py\", line 73, in get\n",
            "    return request(\"get\", url, params=params, **kwargs)\n",
            "           ^^^^^^^^^^^^^^^^^^^^^^^^^^^^^^^^^^^^^^^^^^^^\n",
            "  File \"/usr/local/lib/python3.11/dist-packages/requests/api.py\", line 59, in request\n",
            "    return session.request(method=method, url=url, **kwargs)\n",
            "           ^^^^^^^^^^^^^^^^^^^^^^^^^^^^^^^^^^^^^^^^^^^^^^^^^\n",
            "  File \"/usr/local/lib/python3.11/dist-packages/requests/sessions.py\", line 589, in request\n",
            "    resp = self.send(prep, **send_kwargs)\n",
            "           ^^^^^^^^^^^^^^^^^^^^^^^^^^^^^^\n",
            "  File \"/usr/local/lib/python3.11/dist-packages/requests/sessions.py\", line 703, in send\n",
            "    r = adapter.send(request, **kwargs)\n",
            "        ^^^^^^^^^^^^^^^^^^^^^^^^^^^^^^^\n",
            "  File \"/usr/local/lib/python3.11/dist-packages/requests/adapters.py\", line 700, in send\n",
            "    raise ConnectionError(e, request=request)\n",
            "requests.exceptions.ConnectionError: HTTPConnectionPool(host='localhost', port=4040): Max retries exceeded with url: /api/tunnels (Caused by NewConnectionError('<urllib3.connection.HTTPConnection object at 0x7f2ecc8dd310>: Failed to establish a new connection: [Errno 111] Connection refused'))\n"
          ]
        }
      ]
    }
  ]
}
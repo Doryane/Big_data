{
  "nbformat": 4,
  "nbformat_minor": 0,
  "metadata": {
    "colab": {
      "provenance": [],
      "authorship_tag": "ABX9TyPV4jKlu1FsmvTmtdTwn+aF",
      "include_colab_link": true
    },
    "kernelspec": {
      "name": "python3",
      "display_name": "Python 3"
    },
    "language_info": {
      "name": "python"
    }
  },
  "cells": [
    {
      "cell_type": "markdown",
      "metadata": {
        "id": "view-in-github",
        "colab_type": "text"
      },
      "source": [
        "<a href=\"https://colab.research.google.com/github/Doryane/Big_data/blob/main/Exam_133_Webscarpping.ipynb\" target=\"_parent\"><img src=\"https://colab.research.google.com/assets/colab-badge.svg\" alt=\"Open In Colab\"/></a>"
      ]
    },
    {
      "cell_type": "markdown",
      "source": [
        "1. **Premier site: IMDB**"
      ],
      "metadata": {
        "id": "8DTGvJdWoHCF"
      }
    },
    {
      "cell_type": "code",
      "execution_count": 5,
      "metadata": {
        "id": "QxIZAlwY_ITK"
      },
      "outputs": [],
      "source": [
        "from bs4 import BeautifulSoup as bs\n",
        "import requests"
      ]
    },
    {
      "cell_type": "code",
      "source": [
        "url_imdb = 'https://assets-datascientest.s3.eu-west-1.amazonaws.com/IMDb.html'\n",
        "page_imdb = requests.get(url_imdb)\n",
        "bs_imdb = bs(page_imdb.content,\"lxml\")\n",
        "print(bs_imdb.prettify().splitlines()[0:30])\n"
      ],
      "metadata": {
        "colab": {
          "base_uri": "https://localhost:8080/"
        },
        "id": "D2zBDw59_Xhs",
        "outputId": "6872fae6-12ad-4e40-b743-789457bf1b9d"
      },
      "execution_count": 6,
      "outputs": [
        {
          "output_type": "stream",
          "name": "stdout",
          "text": [
            "['<!DOCTYPE html>', '<html xmlns:fb=\"http://www.facebook.com/2008/fbml\" xmlns:og=\"http://ogp.me/ns#\">', ' <head>', '  <script type=\"text/javascript\">', '   var ue_t0=ue_t0||+new Date();', '  </script>', '  <script type=\"text/javascript\">', '   window.ue_ihb = (window.ue_ihb || window.ueinit || 0) + 1;', 'if (window.ue_ihb === 1) {', '', 'var ue_csm = window,', '    ue_hob = +new Date();', '(function(d){var e=d.ue=d.ue||{},f=Date.now||function(){return+new Date};e.d=function(b){return f()-(b?0:d.ue_t0)};e.stub=function(b,a){if(!b[a]){var c=[];b[a]=function(){c.push([c.slice.call(arguments),e.d(),d.ue_id])};b[a].replay=function(b){for(var a;a=c.shift();)b(a[0],a[1],a[2])};b[a].isStub=1}};e.exec=function(b,a){return function(){try{return b.apply(this,arguments)}catch(c){ueLogError(c,{attribution:a||\"undefined\",logLevel:\"WARN\"})}}}})(ue_csm);', '', '', \"    var ue_err_chan = 'jserr';\", '(function(d,e){function h(f,b){if(!(a.ec>a.mxe)&&f){a.ter.push(f);b=b||{};var c=f.logLevel||b.logLevel;c&&c!==k&&c!==m&&c!==n&&c!==p||a.ec++;c&&c!=k||a.ecf++;b.pageURL=\"\"+(e.location?e.location.href:\"\");b.logLevel=c;b.attribution=f.attribution||b.attribution;a.erl.push({ex:f,info:b})}}function l(a,b,c,e,g){d.ueLogError({m:a,f:b,l:c,c:\"\"+e,err:g,fromOnError:1,args:arguments},g?{attribution:g.attribution,logLevel:g.logLevel}:void 0);return!1}var k=\"FATAL\",m=\"ERROR\",n=\"WARN\",p=\"DOWNGRADED\",a={ec:0,ecf:0,', 'pec:0,ts:0,erl:[],ter:[],buffer:[],mxe:50,startTimer:function(){a.ts++;setInterval(function(){d.ue&&a.pec<a.ec&&d.uex(\"at\");a.pec=a.ec},1E4)}};l.skipTrace=1;h.skipTrace=1;h.isStub=1;d.ueLogError=h;d.ue_err=a;e.onerror=l})(ue_csm,window);', '', '', \"var ue_id = '8G01TZAYK73D0K148WDQ',\", '    ue_url,', '    ue_navtiming = 1,', \"    ue_mid = 'A1EVAM02EL8SFB',\", \"    ue_sid = '139-4771682-8444857',\", \"    ue_sn = 'www.imdb.com',\", \"    ue_furl = 'fls-na.amazon.com',\", \"    ue_surl = 'https://unagi-na.amazon.com/1/events/com.amazon.csm.nexusclient.prod',\", '    ue_int = 0,', '    ue_fcsn = 1,']\n"
          ]
        }
      ]
    },
    {
      "cell_type": "code",
      "source": [
        "titles = bs_imdb.find_all(\"h1\")\n",
        "for title in titles:\n",
        "    print(title.text)"
      ],
      "metadata": {
        "colab": {
          "base_uri": "https://localhost:8080/"
        },
        "id": "-mM2hdhi_ilB",
        "outputId": "168b9d20-8935-4d99-801e-0f885dbea300"
      },
      "execution_count": 7,
      "outputs": [
        {
          "output_type": "stream",
          "name": "stdout",
          "text": [
            "IMDb Top 250 Movies\n"
          ]
        }
      ]
    },
    {
      "cell_type": "code",
      "source": [
        "print(bs_imdb.p.contents)"
      ],
      "metadata": {
        "colab": {
          "base_uri": "https://localhost:8080/"
        },
        "id": "cjLwB8dG_klA",
        "outputId": "936afdf4-b7cb-4275-f353-d7222154d338"
      },
      "execution_count": 8,
      "outputs": [
        {
          "output_type": "stream",
          "name": "stdout",
          "text": [
            "['The Top Rated Movie list only includes feature films.']\n"
          ]
        }
      ]
    },
    {
      "cell_type": "code",
      "source": [
        "print(bs_imdb.p.parent.name)"
      ],
      "metadata": {
        "colab": {
          "base_uri": "https://localhost:8080/"
        },
        "id": "7BZVcu40_m8E",
        "outputId": "94463b7d-ea9a-436a-ac95-1037973b3cdf"
      },
      "execution_count": 9,
      "outputs": [
        {
          "output_type": "stream",
          "name": "stdout",
          "text": [
            "div\n"
          ]
        }
      ]
    },
    {
      "cell_type": "code",
      "source": [
        "for link in bs_imdb.find_all('a'):\n",
        "    print(link.get('href'))"
      ],
      "metadata": {
        "id": "mMRTTpng_oq0"
      },
      "execution_count": null,
      "outputs": []
    },
    {
      "cell_type": "code",
      "source": [
        "# Récupérer les tites, l'année et la position des films\n",
        "movies=[]\n",
        "for x in bs_imdb.findAll(\"td\",{\"class\":\"titleColumn\"}):\n",
        "  text=x.get_text()\n",
        "  movies.append(str(text))\n",
        "print(movies)"
      ],
      "metadata": {
        "colab": {
          "base_uri": "https://localhost:8080/"
        },
        "id": "SftY6yEXiaWR",
        "outputId": "157b220f-6e77-445c-b6c5-daf450652703"
      },
      "execution_count": 13,
      "outputs": [
        {
          "output_type": "stream",
          "name": "stdout",
          "text": [
            "['\\n      1.\\n      Les Évadés\\n(1994)\\n', '\\n      2.\\n      Le Parrain\\n(1972)\\n', '\\n      3.\\n      The Dark Knight : Le Chevalier noir\\n(2008)\\n', '\\n      4.\\n      Le Parrain, 2ᵉ partie\\n(1974)\\n', '\\n      5.\\n      12 Hommes en colère\\n(1957)\\n', '\\n      6.\\n      La liste de Schindler\\n(1993)\\n', '\\n      7.\\n      Le Seigneur des anneaux : Le Retour du roi\\n(2003)\\n', '\\n      8.\\n      Pulp Fiction\\n(1994)\\n', \"\\n      9.\\n      Le Seigneur des anneaux : La Communauté de l'anneau\\n(2001)\\n\", '\\n      10.\\n      Le Bon, la brute, le truand\\n(1966)\\n', '\\n      11.\\n      Forrest Gump\\n(1994)\\n', '\\n      12.\\n      Fight Club\\n(1999)\\n', '\\n      13.\\n      Le Seigneur des anneaux : Les Deux Tours\\n(2002)\\n', '\\n      14.\\n      Inception\\n(2010)\\n', \"\\n      15.\\n      L'Empire contre-attaque\\n(1980)\\n\", '\\n      16.\\n      Matrix\\n(1999)\\n', '\\n      17.\\n      Les affranchis\\n(1990)\\n', \"\\n      18.\\n      Vol au-dessus d'un nid de coucou\\n(1975)\\n\", '\\n      19.\\n      Seven\\n(1995)\\n', '\\n      20.\\n      Les 7 Samouraïs\\n(1954)\\n', '\\n      21.\\n      La vie est belle\\n(1946)\\n', '\\n      22.\\n      Le Silence des agneaux\\n(1991)\\n', '\\n      23.\\n      La cité de Dieu\\n(2002)\\n', '\\n      24.\\n      Il faut sauver le soldat Ryan\\n(1998)\\n', '\\n      25.\\n      La vie est belle\\n(1997)\\n', '\\n      26.\\n      Interstellar\\n(2014)\\n', '\\n      27.\\n      La ligne verte\\n(1999)\\n', '\\n      28.\\n      La guerre des étoiles\\n(1977)\\n', '\\n      29.\\n      Terminator 2 : Le jugement dernier\\n(1991)\\n', '\\n      30.\\n      Retour vers le futur\\n(1985)\\n', '\\n      31.\\n      Le voyage de Chihiro\\n(2001)\\n', '\\n      32.\\n      Psychose\\n(1960)\\n', '\\n      33.\\n      Le pianiste\\n(2002)\\n', '\\n      34.\\n      Parasite\\n(2019)\\n', '\\n      35.\\n      Léon\\n(1994)\\n', '\\n      36.\\n      Le Roi Lion\\n(1994)\\n', '\\n      37.\\n      Gladiator\\n(2000)\\n', '\\n      38.\\n      American History X\\n(1998)\\n', '\\n      39.\\n      Les infiltrés\\n(2006)\\n', '\\n      40.\\n      Usual Suspects\\n(1995)\\n', '\\n      41.\\n      Le Prestige\\n(2006)\\n', '\\n      42.\\n      Whiplash\\n(2014)\\n', '\\n      43.\\n      Casablanca\\n(1942)\\n', '\\n      44.\\n      Harakiri\\n(1962)\\n', '\\n      45.\\n      Le tombeau des lucioles\\n(1988)\\n', '\\n      46.\\n      Intouchables\\n(2011)\\n', '\\n      47.\\n      Les temps modernes\\n(1936)\\n', \"\\n      48.\\n      Il était une fois dans l'Ouest\\n(1968)\\n\", '\\n      49.\\n      Fenêtre sur cour\\n(1954)\\n', '\\n      50.\\n      Cinéma Paradiso\\n(1988)\\n', '\\n      51.\\n      Alien - Le 8ème passager\\n(1979)\\n', '\\n      52.\\n      Les lumières de la ville\\n(1931)\\n', '\\n      53.\\n      Apocalypse Now\\n(1979)\\n', '\\n      54.\\n      Memento\\n(2000)\\n', \"\\n      55.\\n      Les Aventuriers de l'arche perdue\\n(1981)\\n\", '\\n      56.\\n      Django Unchained\\n(2012)\\n', '\\n      57.\\n      WALL·E\\n(2008)\\n', '\\n      58.\\n      La vie des autres\\n(2006)\\n', '\\n      59.\\n      Boulevard du Crépuscule\\n(1950)\\n', '\\n      60.\\n      Les sentiers de la gloire\\n(1957)\\n', '\\n      61.\\n      Shining\\n(1980)\\n', '\\n      62.\\n      Le dictateur\\n(1940)\\n', '\\n      63.\\n      Avengers: Infinity War\\n(2018)\\n', '\\n      64.\\n      Témoin à charge\\n(1957)\\n', '\\n      65.\\n      Aliens : Le Retour\\n(1986)\\n', '\\n      66.\\n      Spider-Man: New Generation\\n(2018)\\n', '\\n      67.\\n      American Beauty\\n(1999)\\n', \"\\n      68.\\n      Dr. Folamour ou : Comment j'ai appris à ne plus m'en faire et à aimer la bombe !\\n(1964)\\n\", '\\n      69.\\n      The Dark Knight Rises\\n(2012)\\n', '\\n      70.\\n      Old Boy\\n(2003)\\n', '\\n      71.\\n      Amadeus\\n(1984)\\n', '\\n      72.\\n      Inglourious Basterds\\n(2009)\\n', '\\n      73.\\n      Coco\\n(2017)\\n', '\\n      74.\\n      Joker\\n(2019)\\n', '\\n      75.\\n      Toy Story\\n(1995)\\n', '\\n      76.\\n      Braveheart\\n(1995)\\n', '\\n      77.\\n      Le Bateau\\n(1981)\\n', '\\n      78.\\n      Avengers: Endgame\\n(2019)\\n', '\\n      79.\\n      Princesse Mononoké\\n(1997)\\n', '\\n      80.\\n      Il était une fois en Amérique\\n(1984)\\n', '\\n      81.\\n      Will Hunting\\n(1997)\\n', '\\n      82.\\n      Your Name.\\n(2016)\\n', '\\n      83.\\n      Requiem for a Dream\\n(2000)\\n', '\\n      84.\\n      Chantons sous la pluie\\n(1952)\\n', '\\n      85.\\n      3 Idiots\\n(2009)\\n', '\\n      86.\\n      Toy Story 3\\n(2010)\\n', \"\\n      87.\\n      Entre le ciel et l'enfer\\n(1963)\\n\", '\\n      88.\\n      Le Retour du Jedi\\n(1983)\\n', '\\n      89.\\n      Capharnaüm\\n(2018)\\n', '\\n      90.\\n      Eternal Sunshine of the Spotless Mind\\n(2004)\\n', \"\\n      91.\\n      2001 : L'Odyssée de l'espace\\n(1968)\\n\", '\\n      92.\\n      Top Gun: Maverick\\n(2022)\\n', '\\n      93.\\n      Reservoir Dogs\\n(1992)\\n', '\\n      94.\\n      La chasse\\n(2012)\\n', '\\n      95.\\n      Requiem pour un massacre - Va et regarde\\n(1985)\\n', '\\n      96.\\n      Citizen Kane\\n(1941)\\n', '\\n      97.\\n      M le maudit\\n(1931)\\n', \"\\n      98.\\n      Lawrence d'Arabie\\n(1962)\\n\", '\\n      99.\\n      La mort aux trousses\\n(1959)\\n', '\\n      100.\\n      Sueurs froides\\n(1958)\\n', \"\\n      101.\\n      Le fabuleux destin d'Amélie Poulain\\n(2001)\\n\", '\\n      102.\\n      La garçonnière\\n(1960)\\n', '\\n      103.\\n      Orange mécanique\\n(1971)\\n', '\\n      104.\\n      Vivre\\n(1952)\\n', '\\n      105.\\n      Assurance sur la mort\\n(1944)\\n', '\\n      106.\\n      Full Metal Jacket\\n(1987)\\n', '\\n      107.\\n      Hamilton\\n(2020)\\n', '\\n      108.\\n      Scarface\\n(1983)\\n', '\\n      109.\\n      Du silence et des ombres...\\n(1962)\\n', \"\\n      110.\\n      L'Arnaque\\n(1973)\\n\", '\\n      111.\\n      Incendies\\n(2010)\\n', '\\n      112.\\n      Heat\\n(1995)\\n', '\\n      113.\\n      Là-haut\\n(2009)\\n', '\\n      114.\\n      Taxi Driver\\n(1976)\\n', '\\n      115.\\n      Une séparation\\n(2011)\\n', '\\n      116.\\n      Metropolis\\n(1927)\\n', '\\n      117.\\n      L.A. Confidential\\n(1997)\\n', '\\n      118.\\n      Piège de cristal\\n(1988)\\n', '\\n      119.\\n      Snatch - Tu braques ou tu raques\\n(2000)\\n', '\\n      120.\\n      Indiana Jones et la dernière croisade\\n(1989)\\n', '\\n      121.\\n      Voleur de bicyclette\\n(1948)\\n', '\\n      122.\\n      Taare Zameen Par\\n(2007)\\n', '\\n      123.\\n      1917\\n(2019)\\n', '\\n      124.\\n      La chute\\n(2004)\\n', '\\n      125.\\n      ...et pour quelques dollars de plus\\n(1965)\\n', '\\n      126.\\n      Dangal\\n(2016)\\n', '\\n      127.\\n      Batman Begins\\n(2005)\\n', '\\n      128.\\n      Le Kid\\n(1921)\\n', \"\\n      129.\\n      Certains l'aiment chaud\\n(1959)\\n\", '\\n      130.\\n      The Father\\n(2020)\\n', '\\n      131.\\n      Ève...\\n(1950)\\n', '\\n      132.\\n      Green Book: Sur les routes du sud\\n(2018)\\n', '\\n      133.\\n      Le loup de Wall Street\\n(2013)\\n', '\\n      134.\\n      Jugement à Nuremberg\\n(1961)\\n', '\\n      135.\\n      Casino\\n(1995)\\n', '\\n      136.\\n      Ran\\n(1985)\\n', '\\n      137.\\n      Le labyrinthe de Pan\\n(2006)\\n', '\\n      138.\\n      Impitoyable\\n(1992)\\n', '\\n      139.\\n      There Will Be Blood\\n(2007)\\n', '\\n      140.\\n      The Truman Show\\n(1998)\\n', '\\n      141.\\n      Sixième sens\\n(1999)\\n', \"\\n      142.\\n      Un homme d'exception\\n(2001)\\n\", '\\n      143.\\n      Shutter Island\\n(2010)\\n', '\\n      144.\\n      Le garde du corps\\n(1961)\\n', '\\n      145.\\n      Le Trésor de la Sierra Madre\\n(1948)\\n', '\\n      146.\\n      Monty Python : Sacré Graal !\\n(1975)\\n', '\\n      147.\\n      Jurassic Park\\n(1993)\\n', '\\n      148.\\n      Spider-Man: No Way Home\\n(2021)\\n', '\\n      149.\\n      La Grande Évasion\\n(1963)\\n', '\\n      150.\\n      Rashomon\\n(1950)\\n', '\\n      151.\\n      No Country for Old Men\\n(2007)\\n', '\\n      152.\\n      Kill Bill: Volume I\\n(2003)\\n', '\\n      153.\\n      The Thing\\n(1982)\\n', '\\n      154.\\n      Le Monde de Nemo\\n(2003)\\n', '\\n      155.\\n      Elephant Man\\n(1980)\\n', '\\n      156.\\n      Chinatown\\n(1974)\\n', '\\n      157.\\n      Raging Bull\\n(1980)\\n', '\\n      158.\\n      V pour vendetta\\n(2005)\\n', '\\n      159.\\n      Autant en emporte le vent\\n(1939)\\n', '\\n      160.\\n      Vice-versa\\n(2015)\\n', '\\n      161.\\n      Arnaques, crimes et botanique\\n(1998)\\n', '\\n      162.\\n      Le crime était presque parfait\\n(1954)\\n', '\\n      163.\\n      Dans ses yeux\\n(2009)\\n', '\\n      164.\\n      Le château ambulant\\n(2004)\\n', '\\n      165.\\n      3 Billboards: Les panneaux de la vengeance\\n(2017)\\n', '\\n      166.\\n      Le pont de la rivière Kwaï\\n(1957)\\n', '\\n      167.\\n      Trainspotting\\n(1996)\\n', '\\n      168.\\n      Warrior\\n(2011)\\n', '\\n      169.\\n      Prisoners\\n(2013)\\n', '\\n      170.\\n      Fargo\\n(1996)\\n', '\\n      171.\\n      Gran Torino\\n(2008)\\n', '\\n      172.\\n      Mon voisin Totoro\\n(1988)\\n', '\\n      173.\\n      Arrête-moi si tu peux\\n(2002)\\n', '\\n      174.\\n      Million Dollar Baby\\n(2004)\\n', '\\n      175.\\n      Les enfants du ciel\\n(1997)\\n', '\\n      176.\\n      Blade Runner\\n(1982)\\n', \"\\n      177.\\n      La ruée vers l'or\\n(1925)\\n\", '\\n      178.\\n      Before Sunrise\\n(1995)\\n', '\\n      179.\\n      Sur les quais...\\n(1954)\\n', '\\n      180.\\n      12 Years a Slave\\n(2013)\\n', '\\n      181.\\n      Harry Potter et les Reliques de la Mort : partie 2\\n(2011)\\n', '\\n      182.\\n      La légende de Klaus\\n(2019)\\n', '\\n      183.\\n      Ben-Hur\\n(1959)\\n', '\\n      184.\\n      Gone Girl\\n(2014)\\n', '\\n      185.\\n      Les fraises sauvages\\n(1957)\\n', '\\n      186.\\n      Le troisième homme\\n(1949)\\n', '\\n      187.\\n      Le mécano de la Générale\\n(1926)\\n', '\\n      188.\\n      The Grand Budapest hotel\\n(2014)\\n', '\\n      189.\\n      Au nom du père\\n(1993)\\n', \"\\n      190.\\n      Voyage au bout de l'enfer\\n(1978)\\n\", '\\n      191.\\n      Barry Lyndon\\n(1975)\\n', '\\n      192.\\n      Le salaire de la peur\\n(1953)\\n', '\\n      193.\\n      Tu ne tueras point\\n(2016)\\n', '\\n      194.\\n      Sherlock Junior\\n(1924)\\n', '\\n      195.\\n      Memories of Murder\\n(2003)\\n', '\\n      196.\\n      Mr. Smith au sénat\\n(1939)\\n', '\\n      197.\\n      Les Nouveaux Sauvages\\n(2014)\\n', '\\n      198.\\n      Mad Max: Fury Road\\n(2015)\\n', '\\n      199.\\n      Le septième sceau\\n(1957)\\n', '\\n      200.\\n      Mary et Max.\\n(2009)\\n', '\\n      201.\\n      Room\\n(2015)\\n', '\\n      202.\\n      Dragons\\n(2010)\\n', '\\n      203.\\n      Monstres & Cie\\n(2001)\\n', '\\n      204.\\n      Les Dents de la mer\\n(1975)\\n', '\\n      205.\\n      The Big Lebowski\\n(1998)\\n', '\\n      206.\\n      Le Cercle des poètes disparus\\n(1989)\\n', \"\\n      207.\\n      La passion de Jeanne d'Arc\\n(1928)\\n\", '\\n      208.\\n      Voyage à Tokyo\\n(1953)\\n', '\\n      209.\\n      Hôtel Rwanda\\n(2004)\\n', \"\\n      210.\\n      Le Mans '66\\n(2019)\\n\", '\\n      211.\\n      Rocky\\n(1976)\\n', '\\n      212.\\n      Platoon\\n(1986)\\n', '\\n      213.\\n      Spotlight\\n(2015)\\n', '\\n      214.\\n      Terminator\\n(1984)\\n', '\\n      215.\\n      Ratatouille\\n(2007)\\n', '\\n      216.\\n      Stand by Me : Compte sur moi\\n(1986)\\n', '\\n      217.\\n      Logan\\n(2017)\\n', '\\n      218.\\n      Rush\\n(2013)\\n', '\\n      219.\\n      Network - Main basse sur la TV\\n(1976)\\n', '\\n      220.\\n      La complainte du sentier\\n(1955)\\n', '\\n      221.\\n      Into the Wild\\n(2007)\\n', \"\\n      222.\\n      Le magicien d'Oz\\n(1939)\\n\", '\\n      223.\\n      Before Sunset\\n(2004)\\n', '\\n      224.\\n      Un jour sans fin\\n(1993)\\n', '\\n      225.\\n      Les Plus Belles Années de notre vie\\n(1946)\\n', \"\\n      226.\\n      L'Exorciste\\n(1973)\\n\", '\\n      227.\\n      Jeu dangereux\\n(1942)\\n', '\\n      228.\\n      Les Indestructibles\\n(2004)\\n', \"\\n      229.\\n      La bataille d'Alger\\n(1966)\\n\", '\\n      230.\\n      La haine\\n(1995)\\n', '\\n      231.\\n      Hatchi\\n(2009)\\n', '\\n      232.\\n      Mon père et mon fils\\n(2005)\\n', '\\n      233.\\n      Jai Bhim\\n(2021)\\n', '\\n      234.\\n      Pirates des Caraïbes : La malédiction du Black Pearl\\n(2003)\\n', '\\n      235.\\n      Les raisins de la colère\\n(1940)\\n', '\\n      236.\\n      Amours chiennes\\n(2000)\\n', '\\n      237.\\n      Rebecca\\n(1940)\\n', '\\n      238.\\n      Luke la main froide\\n(1967)\\n', '\\n      239.\\n      Mademoiselle\\n(2016)\\n', '\\n      240.\\n      Les Quatre Cents Coups\\n(1959)\\n', '\\n      241.\\n      La mélodie du bonheur\\n(1965)\\n', '\\n      242.\\n      New York - Miami\\n(1934)\\n', '\\n      243.\\n      Persona\\n(1966)\\n', '\\n      244.\\n      Monty Python : La Vie de Brian\\n(1979)\\n', '\\n      245.\\n      Dersou Ouzala\\n(1975)\\n', '\\n      246.\\n      Le géant de fer\\n(1999)\\n', '\\n      247.\\n      La couleur des sentiments\\n(2011)\\n', '\\n      248.\\n      Aladdin\\n(1992)\\n', '\\n      249.\\n      Gandhi\\n(1982)\\n', '\\n      250.\\n      Du rififi chez les hommes\\n(1955)\\n']\n"
          ]
        }
      ]
    },
    {
      "cell_type": "code",
      "source": [
        "# Récupérer les notes associés\n",
        "note=[]\n",
        "for x in bs_imdb.findAll(\"td\",{\"class\":\"ratingColumn imdbRating\"}):\n",
        "  text=x.get_text()\n",
        "  note.append(str(text))\n",
        "print(note)"
      ],
      "metadata": {
        "colab": {
          "base_uri": "https://localhost:8080/"
        },
        "id": "nBPVVTxDkSgL",
        "outputId": "ad78c00e-dd72-49d5-f1c8-3ec78a20f44a"
      },
      "execution_count": 14,
      "outputs": [
        {
          "output_type": "stream",
          "name": "stdout",
          "text": [
            "['\\n9,2\\n', '\\n9,2\\n', '\\n9,0\\n', '\\n9,0\\n', '\\n9,0\\n', '\\n8,9\\n', '\\n8,9\\n', '\\n8,8\\n', '\\n8,8\\n', '\\n8,8\\n', '\\n8,8\\n', '\\n8,7\\n', '\\n8,7\\n', '\\n8,7\\n', '\\n8,7\\n', '\\n8,7\\n', '\\n8,7\\n', '\\n8,6\\n', '\\n8,6\\n', '\\n8,6\\n', '\\n8,6\\n', '\\n8,6\\n', '\\n8,6\\n', '\\n8,6\\n', '\\n8,6\\n', '\\n8,6\\n', '\\n8,6\\n', '\\n8,5\\n', '\\n8,5\\n', '\\n8,5\\n', '\\n8,5\\n', '\\n8,5\\n', '\\n8,5\\n', '\\n8,5\\n', '\\n8,5\\n', '\\n8,5\\n', '\\n8,5\\n', '\\n8,5\\n', '\\n8,5\\n', '\\n8,5\\n', '\\n8,5\\n', '\\n8,5\\n', '\\n8,5\\n', '\\n8,5\\n', '\\n8,5\\n', '\\n8,5\\n', '\\n8,4\\n', '\\n8,4\\n', '\\n8,4\\n', '\\n8,4\\n', '\\n8,4\\n', '\\n8,4\\n', '\\n8,4\\n', '\\n8,4\\n', '\\n8,4\\n', '\\n8,4\\n', '\\n8,4\\n', '\\n8,4\\n', '\\n8,4\\n', '\\n8,4\\n', '\\n8,4\\n', '\\n8,4\\n', '\\n8,4\\n', '\\n8,4\\n', '\\n8,3\\n', '\\n8,3\\n', '\\n8,3\\n', '\\n8,3\\n', '\\n8,3\\n', '\\n8,3\\n', '\\n8,3\\n', '\\n8,3\\n', '\\n8,3\\n', '\\n8,3\\n', '\\n8,3\\n', '\\n8,3\\n', '\\n8,3\\n', '\\n8,3\\n', '\\n8,3\\n', '\\n8,3\\n', '\\n8,3\\n', '\\n8,3\\n', '\\n8,3\\n', '\\n8,3\\n', '\\n8,3\\n', '\\n8,3\\n', '\\n8,3\\n', '\\n8,3\\n', '\\n8,3\\n', '\\n8,3\\n', '\\n8,3\\n', '\\n8,3\\n', '\\n8,3\\n', '\\n8,3\\n', '\\n8,3\\n', '\\n8,3\\n', '\\n8,3\\n', '\\n8,3\\n', '\\n8,2\\n', '\\n8,2\\n', '\\n8,2\\n', '\\n8,2\\n', '\\n8,2\\n', '\\n8,2\\n', '\\n8,2\\n', '\\n8,2\\n', '\\n8,2\\n', '\\n8,2\\n', '\\n8,2\\n', '\\n8,2\\n', '\\n8,2\\n', '\\n8,2\\n', '\\n8,2\\n', '\\n8,2\\n', '\\n8,2\\n', '\\n8,2\\n', '\\n8,2\\n', '\\n8,2\\n', '\\n8,2\\n', '\\n8,2\\n', '\\n8,2\\n', '\\n8,2\\n', '\\n8,2\\n', '\\n8,2\\n', '\\n8,2\\n', '\\n8,2\\n', '\\n8,2\\n', '\\n8,2\\n', '\\n8,2\\n', '\\n8,2\\n', '\\n8,2\\n', '\\n8,2\\n', '\\n8,2\\n', '\\n8,2\\n', '\\n8,2\\n', '\\n8,2\\n', '\\n8,2\\n', '\\n8,2\\n', '\\n8,2\\n', '\\n8,2\\n', '\\n8,2\\n', '\\n8,2\\n', '\\n8,2\\n', '\\n8,1\\n', '\\n8,1\\n', '\\n8,1\\n', '\\n8,1\\n', '\\n8,1\\n', '\\n8,1\\n', '\\n8,1\\n', '\\n8,1\\n', '\\n8,1\\n', '\\n8,1\\n', '\\n8,1\\n', '\\n8,1\\n', '\\n8,1\\n', '\\n8,1\\n', '\\n8,1\\n', '\\n8,1\\n', '\\n8,1\\n', '\\n8,1\\n', '\\n8,1\\n', '\\n8,1\\n', '\\n8,1\\n', '\\n8,1\\n', '\\n8,1\\n', '\\n8,1\\n', '\\n8,1\\n', '\\n8,1\\n', '\\n8,1\\n', '\\n8,1\\n', '\\n8,1\\n', '\\n8,1\\n', '\\n8,1\\n', '\\n8,1\\n', '\\n8,1\\n', '\\n8,1\\n', '\\n8,1\\n', '\\n8,1\\n', '\\n8,1\\n', '\\n8,1\\n', '\\n8,1\\n', '\\n8,1\\n', '\\n8,1\\n', '\\n8,1\\n', '\\n8,1\\n', '\\n8,1\\n', '\\n8,1\\n', '\\n8,1\\n', '\\n8,1\\n', '\\n8,1\\n', '\\n8,1\\n', '\\n8,1\\n', '\\n8,1\\n', '\\n8,1\\n', '\\n8,1\\n', '\\n8,1\\n', '\\n8,1\\n', '\\n8,1\\n', '\\n8,1\\n', '\\n8,1\\n', '\\n8,1\\n', '\\n8,1\\n', '\\n8,1\\n', '\\n8,1\\n', '\\n8,1\\n', '\\n8,1\\n', '\\n8,1\\n', '\\n8,1\\n', '\\n8,0\\n', '\\n8,0\\n', '\\n8,0\\n', '\\n8,0\\n', '\\n8,0\\n', '\\n8,0\\n', '\\n8,0\\n', '\\n8,0\\n', '\\n8,0\\n', '\\n8,0\\n', '\\n8,0\\n', '\\n8,0\\n', '\\n8,0\\n', '\\n8,0\\n', '\\n8,0\\n', '\\n8,0\\n', '\\n8,0\\n', '\\n8,0\\n', '\\n8,0\\n', '\\n8,0\\n', '\\n8,0\\n', '\\n8,0\\n', '\\n8,0\\n', '\\n8,0\\n', '\\n8,0\\n', '\\n8,0\\n', '\\n8,0\\n', '\\n8,0\\n', '\\n8,0\\n', '\\n8,0\\n', '\\n8,0\\n', '\\n8,0\\n', '\\n8,0\\n', '\\n8,0\\n', '\\n8,0\\n', '\\n8,0\\n', '\\n8,0\\n', '\\n8,0\\n', '\\n8,0\\n', '\\n8,0\\n', '\\n8,0\\n']\n"
          ]
        }
      ]
    },
    {
      "cell_type": "code",
      "source": [
        "# Nettoyer les listes\n",
        "movies_2=[]\n",
        "notes=[]\n",
        "for i in range(len(movies)):\n",
        "    if i != None :\n",
        "      movies_2.append(i)\n",
        "      notes.append(i)\n",
        "    movies_2[i]= movies[i].replace('\\n',' ')\n",
        "    notes[i]= note[i].replace('\\n',' ')"
      ],
      "metadata": {
        "id": "h7HmD6HPohH4"
      },
      "execution_count": 15,
      "outputs": []
    },
    {
      "cell_type": "code",
      "source": [
        "# Diviser les informations dans différentes listes\n",
        "annee = []\n",
        "rang = []\n",
        "films_imdb = []\n",
        "for i in range(len(movies_2)):\n",
        "  annee.append(movies_2[i][movies_2[i].find(\"(\")+1:movies_2[i].find(\")\")])\n",
        "  rang.append((movies_2[i][movies_2[i].find(\" \")+1:movies_2[i].find(\".\")]).strip())\n",
        "  films_imdb.append((movies_2[i][movies_2[i].find(\".\")+1:movies_2[i].find(\"(\")]).strip())"
      ],
      "metadata": {
        "id": "On0Nkh7npeLu"
      },
      "execution_count": 16,
      "outputs": []
    },
    {
      "cell_type": "code",
      "source": [
        "# En naviguant dans le sous-arbre films_imdb afficher le titre du premier film"
      ],
      "metadata": {
        "id": "I9Coe_gh_uLI"
      },
      "execution_count": 17,
      "outputs": []
    },
    {
      "cell_type": "code",
      "source": [
        "print(\"le titre du premier film est :\", films_imdb[0])\n",
        "# Ou\n",
        "for x in bs_imdb.findAll(\"a\",{\"title\":\"Frank Darabont (dir.), Tim Robbins, Morgan Freeman\"}):\n",
        "  print(\"le titre du premier film est :\",x.get_text())"
      ],
      "metadata": {
        "colab": {
          "base_uri": "https://localhost:8080/"
        },
        "id": "fxdB9Rw0v44T",
        "outputId": "4c1af87e-3385-46e3-f127-4f42dd5c5d7a"
      },
      "execution_count": 18,
      "outputs": [
        {
          "output_type": "stream",
          "name": "stdout",
          "text": [
            "le titre du premier film est : Les Évadés\n",
            "le titre du premier film est : Les Évadés\n"
          ]
        }
      ]
    },
    {
      "cell_type": "code",
      "source": [
        "# Afficher le rang du premier film. Il faudra nettoyer le code pour récupérer une donnée propre."
      ],
      "metadata": {
        "id": "9LFc7xOCwFaf"
      },
      "execution_count": 19,
      "outputs": []
    },
    {
      "cell_type": "code",
      "source": [
        "print(\"le rang du premier film est :\", rang[0])"
      ],
      "metadata": {
        "colab": {
          "base_uri": "https://localhost:8080/"
        },
        "id": "8YikPjiEwJMl",
        "outputId": "1932fe4e-65b5-4053-c3c8-086132d426d3"
      },
      "execution_count": 20,
      "outputs": [
        {
          "output_type": "stream",
          "name": "stdout",
          "text": [
            "le rang du premier film est : 1\n"
          ]
        }
      ]
    },
    {
      "cell_type": "code",
      "source": [
        "# Afficher l'année de sortie du premier film. Penser à supprimer les caractères parasites (s'il y en a)."
      ],
      "metadata": {
        "id": "OStfDCfvwPfO"
      },
      "execution_count": 21,
      "outputs": []
    },
    {
      "cell_type": "code",
      "source": [
        "print(\"l'année de sortir du premier film est :\", annee[0])"
      ],
      "metadata": {
        "colab": {
          "base_uri": "https://localhost:8080/"
        },
        "id": "A3CaNo3rwTJl",
        "outputId": "f45be50c-d2d3-4435-ff69-096aaeb4f2dc"
      },
      "execution_count": 22,
      "outputs": [
        {
          "output_type": "stream",
          "name": "stdout",
          "text": [
            "l'année de sortir du premier film est : 1994\n"
          ]
        }
      ]
    },
    {
      "cell_type": "code",
      "source": [
        "# Identifier les éléments contenant la note des films. Récupérer le code source dans une variable notes et afficher la note du premier film."
      ],
      "metadata": {
        "id": "gsfrKwiHwize"
      },
      "execution_count": 23,
      "outputs": []
    },
    {
      "cell_type": "code",
      "source": [
        "print(\"La note du premier film est :\", notes[0])"
      ],
      "metadata": {
        "colab": {
          "base_uri": "https://localhost:8080/"
        },
        "id": "meIQWkSEwlJ-",
        "outputId": "33bcc7d8-90a6-429b-f067-3df209f00238"
      },
      "execution_count": 24,
      "outputs": [
        {
          "output_type": "stream",
          "name": "stdout",
          "text": [
            "La note du premier film est :  9,2 \n"
          ]
        }
      ]
    },
    {
      "cell_type": "code",
      "source": [
        "# Importer la librarie pandas"
      ],
      "metadata": {
        "id": "dJ3Fhfwlwuup"
      },
      "execution_count": 25,
      "outputs": []
    },
    {
      "cell_type": "code",
      "source": [
        "import pandas as pd"
      ],
      "metadata": {
        "id": "jaOYopFUwwrY"
      },
      "execution_count": 26,
      "outputs": []
    },
    {
      "cell_type": "code",
      "source": [
        "# A l'aide d'une boucle for, récupérer tous les titres, rangs, années de sortie et notes pour tous les films, dans un Dataframe df_imdb."
      ],
      "metadata": {
        "id": "UY2RFnCww0MR"
      },
      "execution_count": 27,
      "outputs": []
    },
    {
      "cell_type": "code",
      "source": [
        "df_imdb = {'titre' : films_imdb, 'rang' : rang, 'annee' : annee, 'notes spectateurs' : notes}\n",
        "df_imdb = pd.DataFrame(data=df_imdb)"
      ],
      "metadata": {
        "id": "pfOnM2a01Sw8"
      },
      "execution_count": 112,
      "outputs": []
    },
    {
      "cell_type": "code",
      "source": [
        "# Afficher les premières lignes de df_imdb."
      ],
      "metadata": {
        "id": "TPRG0kOJ1pw3"
      },
      "execution_count": 113,
      "outputs": []
    },
    {
      "cell_type": "code",
      "source": [
        "df_imdb.head()"
      ],
      "metadata": {
        "colab": {
          "base_uri": "https://localhost:8080/",
          "height": 206
        },
        "id": "6qblDMTf1sba",
        "outputId": "8b916fff-9c01-4825-e86b-3b932dc3973d"
      },
      "execution_count": 114,
      "outputs": [
        {
          "output_type": "execute_result",
          "data": {
            "text/plain": [
              "                                 titre rang annee notes spectateurs\n",
              "0                           Les Évadés    1  1994              9,2 \n",
              "1                           Le Parrain    2  1972              9,2 \n",
              "2  The Dark Knight : Le Chevalier noir    3  2008              9,0 \n",
              "3                Le Parrain, 2ᵉ partie    4  1974              9,0 \n",
              "4                  12 Hommes en colère    5  1957              9,0 "
            ],
            "text/html": [
              "\n",
              "  <div id=\"df-954e3189-83e8-4f69-872c-b40196160214\" class=\"colab-df-container\">\n",
              "    <div>\n",
              "<style scoped>\n",
              "    .dataframe tbody tr th:only-of-type {\n",
              "        vertical-align: middle;\n",
              "    }\n",
              "\n",
              "    .dataframe tbody tr th {\n",
              "        vertical-align: top;\n",
              "    }\n",
              "\n",
              "    .dataframe thead th {\n",
              "        text-align: right;\n",
              "    }\n",
              "</style>\n",
              "<table border=\"1\" class=\"dataframe\">\n",
              "  <thead>\n",
              "    <tr style=\"text-align: right;\">\n",
              "      <th></th>\n",
              "      <th>titre</th>\n",
              "      <th>rang</th>\n",
              "      <th>annee</th>\n",
              "      <th>notes spectateurs</th>\n",
              "    </tr>\n",
              "  </thead>\n",
              "  <tbody>\n",
              "    <tr>\n",
              "      <th>0</th>\n",
              "      <td>Les Évadés</td>\n",
              "      <td>1</td>\n",
              "      <td>1994</td>\n",
              "      <td>9,2</td>\n",
              "    </tr>\n",
              "    <tr>\n",
              "      <th>1</th>\n",
              "      <td>Le Parrain</td>\n",
              "      <td>2</td>\n",
              "      <td>1972</td>\n",
              "      <td>9,2</td>\n",
              "    </tr>\n",
              "    <tr>\n",
              "      <th>2</th>\n",
              "      <td>The Dark Knight : Le Chevalier noir</td>\n",
              "      <td>3</td>\n",
              "      <td>2008</td>\n",
              "      <td>9,0</td>\n",
              "    </tr>\n",
              "    <tr>\n",
              "      <th>3</th>\n",
              "      <td>Le Parrain, 2ᵉ partie</td>\n",
              "      <td>4</td>\n",
              "      <td>1974</td>\n",
              "      <td>9,0</td>\n",
              "    </tr>\n",
              "    <tr>\n",
              "      <th>4</th>\n",
              "      <td>12 Hommes en colère</td>\n",
              "      <td>5</td>\n",
              "      <td>1957</td>\n",
              "      <td>9,0</td>\n",
              "    </tr>\n",
              "  </tbody>\n",
              "</table>\n",
              "</div>\n",
              "    <div class=\"colab-df-buttons\">\n",
              "\n",
              "  <div class=\"colab-df-container\">\n",
              "    <button class=\"colab-df-convert\" onclick=\"convertToInteractive('df-954e3189-83e8-4f69-872c-b40196160214')\"\n",
              "            title=\"Convert this dataframe to an interactive table.\"\n",
              "            style=\"display:none;\">\n",
              "\n",
              "  <svg xmlns=\"http://www.w3.org/2000/svg\" height=\"24px\" viewBox=\"0 -960 960 960\">\n",
              "    <path d=\"M120-120v-720h720v720H120Zm60-500h600v-160H180v160Zm220 220h160v-160H400v160Zm0 220h160v-160H400v160ZM180-400h160v-160H180v160Zm440 0h160v-160H620v160ZM180-180h160v-160H180v160Zm440 0h160v-160H620v160Z\"/>\n",
              "  </svg>\n",
              "    </button>\n",
              "\n",
              "  <style>\n",
              "    .colab-df-container {\n",
              "      display:flex;\n",
              "      gap: 12px;\n",
              "    }\n",
              "\n",
              "    .colab-df-convert {\n",
              "      background-color: #E8F0FE;\n",
              "      border: none;\n",
              "      border-radius: 50%;\n",
              "      cursor: pointer;\n",
              "      display: none;\n",
              "      fill: #1967D2;\n",
              "      height: 32px;\n",
              "      padding: 0 0 0 0;\n",
              "      width: 32px;\n",
              "    }\n",
              "\n",
              "    .colab-df-convert:hover {\n",
              "      background-color: #E2EBFA;\n",
              "      box-shadow: 0px 1px 2px rgba(60, 64, 67, 0.3), 0px 1px 3px 1px rgba(60, 64, 67, 0.15);\n",
              "      fill: #174EA6;\n",
              "    }\n",
              "\n",
              "    .colab-df-buttons div {\n",
              "      margin-bottom: 4px;\n",
              "    }\n",
              "\n",
              "    [theme=dark] .colab-df-convert {\n",
              "      background-color: #3B4455;\n",
              "      fill: #D2E3FC;\n",
              "    }\n",
              "\n",
              "    [theme=dark] .colab-df-convert:hover {\n",
              "      background-color: #434B5C;\n",
              "      box-shadow: 0px 1px 3px 1px rgba(0, 0, 0, 0.15);\n",
              "      filter: drop-shadow(0px 1px 2px rgba(0, 0, 0, 0.3));\n",
              "      fill: #FFFFFF;\n",
              "    }\n",
              "  </style>\n",
              "\n",
              "    <script>\n",
              "      const buttonEl =\n",
              "        document.querySelector('#df-954e3189-83e8-4f69-872c-b40196160214 button.colab-df-convert');\n",
              "      buttonEl.style.display =\n",
              "        google.colab.kernel.accessAllowed ? 'block' : 'none';\n",
              "\n",
              "      async function convertToInteractive(key) {\n",
              "        const element = document.querySelector('#df-954e3189-83e8-4f69-872c-b40196160214');\n",
              "        const dataTable =\n",
              "          await google.colab.kernel.invokeFunction('convertToInteractive',\n",
              "                                                    [key], {});\n",
              "        if (!dataTable) return;\n",
              "\n",
              "        const docLinkHtml = 'Like what you see? Visit the ' +\n",
              "          '<a target=\"_blank\" href=https://colab.research.google.com/notebooks/data_table.ipynb>data table notebook</a>'\n",
              "          + ' to learn more about interactive tables.';\n",
              "        element.innerHTML = '';\n",
              "        dataTable['output_type'] = 'display_data';\n",
              "        await google.colab.output.renderOutput(dataTable, element);\n",
              "        const docLink = document.createElement('div');\n",
              "        docLink.innerHTML = docLinkHtml;\n",
              "        element.appendChild(docLink);\n",
              "      }\n",
              "    </script>\n",
              "  </div>\n",
              "\n",
              "\n",
              "<div id=\"df-5cd46dc8-4a1c-4517-83d5-bfa35568c8cb\">\n",
              "  <button class=\"colab-df-quickchart\" onclick=\"quickchart('df-5cd46dc8-4a1c-4517-83d5-bfa35568c8cb')\"\n",
              "            title=\"Suggest charts\"\n",
              "            style=\"display:none;\">\n",
              "\n",
              "<svg xmlns=\"http://www.w3.org/2000/svg\" height=\"24px\"viewBox=\"0 0 24 24\"\n",
              "     width=\"24px\">\n",
              "    <g>\n",
              "        <path d=\"M19 3H5c-1.1 0-2 .9-2 2v14c0 1.1.9 2 2 2h14c1.1 0 2-.9 2-2V5c0-1.1-.9-2-2-2zM9 17H7v-7h2v7zm4 0h-2V7h2v10zm4 0h-2v-4h2v4z\"/>\n",
              "    </g>\n",
              "</svg>\n",
              "  </button>\n",
              "\n",
              "<style>\n",
              "  .colab-df-quickchart {\n",
              "      --bg-color: #E8F0FE;\n",
              "      --fill-color: #1967D2;\n",
              "      --hover-bg-color: #E2EBFA;\n",
              "      --hover-fill-color: #174EA6;\n",
              "      --disabled-fill-color: #AAA;\n",
              "      --disabled-bg-color: #DDD;\n",
              "  }\n",
              "\n",
              "  [theme=dark] .colab-df-quickchart {\n",
              "      --bg-color: #3B4455;\n",
              "      --fill-color: #D2E3FC;\n",
              "      --hover-bg-color: #434B5C;\n",
              "      --hover-fill-color: #FFFFFF;\n",
              "      --disabled-bg-color: #3B4455;\n",
              "      --disabled-fill-color: #666;\n",
              "  }\n",
              "\n",
              "  .colab-df-quickchart {\n",
              "    background-color: var(--bg-color);\n",
              "    border: none;\n",
              "    border-radius: 50%;\n",
              "    cursor: pointer;\n",
              "    display: none;\n",
              "    fill: var(--fill-color);\n",
              "    height: 32px;\n",
              "    padding: 0;\n",
              "    width: 32px;\n",
              "  }\n",
              "\n",
              "  .colab-df-quickchart:hover {\n",
              "    background-color: var(--hover-bg-color);\n",
              "    box-shadow: 0 1px 2px rgba(60, 64, 67, 0.3), 0 1px 3px 1px rgba(60, 64, 67, 0.15);\n",
              "    fill: var(--button-hover-fill-color);\n",
              "  }\n",
              "\n",
              "  .colab-df-quickchart-complete:disabled,\n",
              "  .colab-df-quickchart-complete:disabled:hover {\n",
              "    background-color: var(--disabled-bg-color);\n",
              "    fill: var(--disabled-fill-color);\n",
              "    box-shadow: none;\n",
              "  }\n",
              "\n",
              "  .colab-df-spinner {\n",
              "    border: 2px solid var(--fill-color);\n",
              "    border-color: transparent;\n",
              "    border-bottom-color: var(--fill-color);\n",
              "    animation:\n",
              "      spin 1s steps(1) infinite;\n",
              "  }\n",
              "\n",
              "  @keyframes spin {\n",
              "    0% {\n",
              "      border-color: transparent;\n",
              "      border-bottom-color: var(--fill-color);\n",
              "      border-left-color: var(--fill-color);\n",
              "    }\n",
              "    20% {\n",
              "      border-color: transparent;\n",
              "      border-left-color: var(--fill-color);\n",
              "      border-top-color: var(--fill-color);\n",
              "    }\n",
              "    30% {\n",
              "      border-color: transparent;\n",
              "      border-left-color: var(--fill-color);\n",
              "      border-top-color: var(--fill-color);\n",
              "      border-right-color: var(--fill-color);\n",
              "    }\n",
              "    40% {\n",
              "      border-color: transparent;\n",
              "      border-right-color: var(--fill-color);\n",
              "      border-top-color: var(--fill-color);\n",
              "    }\n",
              "    60% {\n",
              "      border-color: transparent;\n",
              "      border-right-color: var(--fill-color);\n",
              "    }\n",
              "    80% {\n",
              "      border-color: transparent;\n",
              "      border-right-color: var(--fill-color);\n",
              "      border-bottom-color: var(--fill-color);\n",
              "    }\n",
              "    90% {\n",
              "      border-color: transparent;\n",
              "      border-bottom-color: var(--fill-color);\n",
              "    }\n",
              "  }\n",
              "</style>\n",
              "\n",
              "  <script>\n",
              "    async function quickchart(key) {\n",
              "      const quickchartButtonEl =\n",
              "        document.querySelector('#' + key + ' button');\n",
              "      quickchartButtonEl.disabled = true;  // To prevent multiple clicks.\n",
              "      quickchartButtonEl.classList.add('colab-df-spinner');\n",
              "      try {\n",
              "        const charts = await google.colab.kernel.invokeFunction(\n",
              "            'suggestCharts', [key], {});\n",
              "      } catch (error) {\n",
              "        console.error('Error during call to suggestCharts:', error);\n",
              "      }\n",
              "      quickchartButtonEl.classList.remove('colab-df-spinner');\n",
              "      quickchartButtonEl.classList.add('colab-df-quickchart-complete');\n",
              "    }\n",
              "    (() => {\n",
              "      let quickchartButtonEl =\n",
              "        document.querySelector('#df-5cd46dc8-4a1c-4517-83d5-bfa35568c8cb button');\n",
              "      quickchartButtonEl.style.display =\n",
              "        google.colab.kernel.accessAllowed ? 'block' : 'none';\n",
              "    })();\n",
              "  </script>\n",
              "</div>\n",
              "    </div>\n",
              "  </div>\n"
            ],
            "application/vnd.google.colaboratory.intrinsic+json": {
              "type": "dataframe",
              "variable_name": "df_imdb",
              "summary": "{\n  \"name\": \"df_imdb\",\n  \"rows\": 250,\n  \"fields\": [\n    {\n      \"column\": \"titre\",\n      \"properties\": {\n        \"dtype\": \"string\",\n        \"num_unique_values\": 249,\n        \"samples\": [\n          \"There Will Be Blood\",\n          \"Le Seigneur des anneaux : Le Retour du roi\",\n          \"La mort aux trousses\"\n        ],\n        \"semantic_type\": \"\",\n        \"description\": \"\"\n      }\n    },\n    {\n      \"column\": \"rang\",\n      \"properties\": {\n        \"dtype\": \"string\",\n        \"num_unique_values\": 250,\n        \"samples\": [\n          \"143\",\n          \"7\",\n          \"98\"\n        ],\n        \"semantic_type\": \"\",\n        \"description\": \"\"\n      }\n    },\n    {\n      \"column\": \"annee\",\n      \"properties\": {\n        \"dtype\": \"object\",\n        \"num_unique_values\": 86,\n        \"samples\": [\n          \"1996\",\n          \"1994\",\n          \"1961\"\n        ],\n        \"semantic_type\": \"\",\n        \"description\": \"\"\n      }\n    },\n    {\n      \"column\": \"notes spectateurs\",\n      \"properties\": {\n        \"dtype\": \"category\",\n        \"num_unique_values\": 12,\n        \"samples\": [\n          \" 8,1 \",\n          \" 8,2 \",\n          \" 9,2 \"\n        ],\n        \"semantic_type\": \"\",\n        \"description\": \"\"\n      }\n    }\n  ]\n}"
            }
          },
          "metadata": {},
          "execution_count": 114
        }
      ]
    },
    {
      "cell_type": "markdown",
      "source": [
        "2. **Deuxième site : Allociné**"
      ],
      "metadata": {
        "id": "EBBS8GUhcKDy"
      }
    },
    {
      "cell_type": "code",
      "source": [
        "from bs4 import BeautifulSoup as bs\n",
        "import requests"
      ],
      "metadata": {
        "id": "vsRPdomScMzB"
      },
      "execution_count": 115,
      "outputs": []
    },
    {
      "cell_type": "code",
      "source": [
        "url_allocine = 'https://assets-datascientest.s3.eu-west-1.amazonaws.com/AlloCin%C3%A9.html'\n",
        "page_allocine = requests.get(url_allocine)\n",
        "bs_allocine = bs(page_allocine.content,\"lxml\")\n",
        "print(bs_allocine.prettify().splitlines()[0:30])"
      ],
      "metadata": {
        "colab": {
          "base_uri": "https://localhost:8080/"
        },
        "id": "EjcrS-Sicvs6",
        "outputId": "83e5b441-860e-4236-f0f4-e1912d8dec7c"
      },
      "execution_count": 116,
      "outputs": [
        {
          "output_type": "stream",
          "name": "stdout",
          "text": [
            "['<!DOCTYPE html>', '<html lang=\"fr\">', ' <head>', '  <meta content=\"IE=edge,chrome=1\" http-equiv=\"X-UA-Compatible\"/>', '  <meta charset=\"utf-8\"/>', '  <meta content=\"width=device-width, initial-scale=1.0, maximum-scale=1.0, minimum-scale=1.0, user-scalable=no\" name=\"viewport\"/>', '  <meta content=\"index,follow,max-snippet:-1\" name=\"robots\"/>', '  <title>', '   Meilleurs films de tous les temps - AlloCiné', '  </title>', '  <meta content=\"\" name=\"keywords\"/>', '  <meta content=\"noarchive\" name=\"Googlebot\"/>', '  <meta content=\"global\" name=\"distribution\"/>', '  <meta content=\"AlloCine\" name=\"author\"/>', '  <meta content=\"France\" name=\"country\"/>', '  <meta content=\"48.87078;2.30447\" name=\"geo.position\"/>', '  <meta content=\"FR\" name=\"geo.country\"/>', '  <meta content=\"48.87078;2.30447\" name=\"ICBM\"/>', '  <meta content=\"#FECC00\" name=\"theme-color\"/>', '  <meta content=\"Quels sont les meilleurs films? Découvrez les 300 meilleurs films de tous les temps sur AlloCiné\" name=\"description\"/>', '  <meta content=\"AlloCiné\" property=\"og:site_name\"/>', '  <meta content=\"Meilleurs films de tous les temps\" property=\"og:title\"/>', '  <meta content=\"Quels sont les meilleurs films? Découvrez les 300 meilleurs films de tous les temps sur AlloCiné\" property=\"og:description\"/>', '  <meta content=\"99197768694\" property=\"fb:app_id\"/>', '  <meta content=\"summary\" name=\"twitter:card\"/>', '  <meta content=\"@allocine\" name=\"twitter:site\"/>', '  <meta content=\"Meilleurs films de tous les temps\" name=\"twitter:title\"/>', '  <meta content=\"Quels sont les meilleurs films? Découvrez les 300 meilleurs films de tous les temps sur AlloCiné\" name=\"twitter:description\"/>', '  <meta content=\"\" name=\"twitter:image\"/>', '  <meta content=\"allocine\" name=\"twitter:app:name:iphone\"/>']\n"
          ]
        }
      ]
    },
    {
      "cell_type": "markdown",
      "source": [
        "•\t(c) Récupérer le code HTML contenant le titre et les notes des films dans une variable nommée films_allocine.\n",
        "•\t(d) Afficher le nombre de films récupérés."
      ],
      "metadata": {
        "id": "JffZuENWc6ad"
      }
    },
    {
      "cell_type": "code",
      "source": [
        "# Récupérer le code HTML contenant le titre et les notes des films dans une variable nommée films_allocine\n",
        "films=[]\n",
        "for x in bs_allocine.findAll(\"a\",{\"class\":\"meta-title-link\"}):\n",
        "  text=x.get_text()\n",
        "  films.append(str(text))\n",
        "print(films)"
      ],
      "metadata": {
        "colab": {
          "base_uri": "https://localhost:8080/"
        },
        "id": "DW7ti_Yfc1Ik",
        "outputId": "7e1deca7-9c0b-4c87-c8ef-5843c1ec88b6"
      },
      "execution_count": 117,
      "outputs": [
        {
          "output_type": "stream",
          "name": "stdout",
          "text": [
            "['Forrest Gump', 'La Liste de Schindler', 'La Ligne verte', '12 hommes en colère', 'Le Parrain', 'Les Evadés', 'Le Seigneur des anneaux : le retour du roi', 'Le Roi Lion', \"Vol au-dessus d'un nid de coucou\", 'The Dark Knight, Le Chevalier Noir']\n"
          ]
        }
      ]
    },
    {
      "cell_type": "code",
      "source": [
        "notes_allocine = []\n",
        "for x in bs_allocine.findAll(\"div\",{\"class\":\"rating-item-content\"}):\n",
        "  text=x.get_text()\n",
        "  notes_allocine.append(str(text))\n",
        "print(notes_allocine)"
      ],
      "metadata": {
        "colab": {
          "base_uri": "https://localhost:8080/"
        },
        "id": "5Li8lgp1fs2q",
        "outputId": "716bdff2-19c5-4f16-f96a-47ebf2f2f01a"
      },
      "execution_count": 118,
      "outputs": [
        {
          "output_type": "stream",
          "name": "stdout",
          "text": [
            "['\\n Presse \\n2,6\\n', '\\n Spectateurs \\n4,6\\n', '\\nMes amis \\n--\\n', '\\n Presse \\n4,2\\n', '\\n Spectateurs \\n4,6\\n', '\\nMes amis \\n--\\n', '\\n Presse \\n2,8\\n', '\\n Spectateurs \\n4,6\\n', '\\nMes amis \\n--\\n', '\\n Presse \\n5,0\\n', '\\n Spectateurs \\n4,6\\n', '\\nMes amis \\n--\\n', '\\n Presse \\n4,6\\n', '\\n Spectateurs \\n4,5\\n', '\\nMes amis \\n--\\n', '\\n Presse \\n3,2\\n', '\\n Spectateurs \\n4,5\\n', '\\nMes amis \\n--\\n', '\\n Presse \\n3,8\\n', '\\n Spectateurs \\n4,5\\n', '\\nMes amis \\n--\\n', '\\n Presse \\n3,4\\n', '\\n Spectateurs \\n4,5\\n', '\\nMes amis \\n--\\n', '\\n Presse \\n5,0\\n', '\\n Spectateurs \\n4,5\\n', '\\nMes amis \\n--\\n', '\\n Presse \\n4,0\\n', '\\n Spectateurs \\n4,5\\n', '\\nMes amis \\n--\\n']\n"
          ]
        }
      ]
    },
    {
      "cell_type": "code",
      "source": [
        "# Nettoyer les listes\n",
        "notes_allocine_presse=[]\n",
        "notes_allocine_spectateurs=[]\n",
        "for i in range(len(notes_allocine)):\n",
        "    notes_allocine.append(notes_allocine[i].replace('\\n',' '))\n",
        "    if \"Presse\" in str(notes_allocine[i]):\n",
        "      notes_allocine_presse.append(notes_allocine[i][notes_allocine[i].find(\",\")-1:notes_allocine[i].find(\",\")+2])\n",
        "    elif \"Spectateurs\" in str(notes_allocine[i]):\n",
        "      notes_allocine_spectateurs.append(notes_allocine[i][notes_allocine[i].find(\",\")-1:notes_allocine[i].find(\",\")+2])"
      ],
      "metadata": {
        "id": "-HLNFc9DhwjO"
      },
      "execution_count": 119,
      "outputs": []
    },
    {
      "cell_type": "code",
      "source": [
        "notes_allocine_presse_ = []\n",
        "notes_allocine_spectateurs_ = []\n",
        "for i in range(len(films)):\n",
        "  notes_allocine_presse_.append(notes_allocine_presse[i])\n",
        "  notes_allocine_spectateurs_.append(notes_allocine_spectateurs[i])"
      ],
      "metadata": {
        "id": "aQrS2eOjnTkI"
      },
      "execution_count": 120,
      "outputs": []
    },
    {
      "cell_type": "markdown",
      "source": [
        "Nettoyer et afficher le titre du premier film."
      ],
      "metadata": {
        "id": "-D6xgCfpgGY0"
      }
    },
    {
      "cell_type": "code",
      "source": [
        "# Nettoyer et afficher le titre du premier film.\n",
        "print(\"le titre du premier film est :\", films[0])"
      ],
      "metadata": {
        "colab": {
          "base_uri": "https://localhost:8080/"
        },
        "id": "udOrARMagFmE",
        "outputId": "b52a6d14-cfa7-4528-f03c-19bb1033e014"
      },
      "execution_count": 121,
      "outputs": [
        {
          "output_type": "stream",
          "name": "stdout",
          "text": [
            "le titre du premier film est : Forrest Gump\n"
          ]
        }
      ]
    },
    {
      "cell_type": "markdown",
      "source": [
        "Afficher la note de presse du premier film."
      ],
      "metadata": {
        "id": "CTpQto22gXw8"
      }
    },
    {
      "cell_type": "code",
      "source": [
        "# Afficher la note de presse du premier film.\n",
        "print(\"la note de presse du premier film est :\", notes_allocine_presse[0])"
      ],
      "metadata": {
        "colab": {
          "base_uri": "https://localhost:8080/"
        },
        "id": "c45zeNe_gXON",
        "outputId": "35cfc8cd-05e5-4ee8-aedb-e2f09348e5ef"
      },
      "execution_count": 122,
      "outputs": [
        {
          "output_type": "stream",
          "name": "stdout",
          "text": [
            "la note de presse du premier film est : 2,6\n"
          ]
        }
      ]
    },
    {
      "cell_type": "markdown",
      "source": [
        "Afficher la note de spectateur du premier film."
      ],
      "metadata": {
        "id": "dnFAOAiDk_D_"
      }
    },
    {
      "cell_type": "code",
      "source": [
        "# Afficher la note de spectateurs du premier film.\n",
        "print(\"la note de presse du premier film est :\", notes_allocine_spectateurs[0])"
      ],
      "metadata": {
        "colab": {
          "base_uri": "https://localhost:8080/"
        },
        "id": "VYaZOQwFk-ZC",
        "outputId": "e4f89bee-935e-49ba-907e-4c30956070b1"
      },
      "execution_count": 123,
      "outputs": [
        {
          "output_type": "stream",
          "name": "stdout",
          "text": [
            "la note de presse du premier film est : 4,6\n"
          ]
        }
      ]
    },
    {
      "cell_type": "markdown",
      "source": [
        "Récupérer tous les titres et les notes pour tous les films, dans un DataFrame df_allocine. Afficher les premières lignes."
      ],
      "metadata": {
        "id": "OS6xIV8PlesE"
      }
    },
    {
      "cell_type": "code",
      "source": [
        "# Récupérer tous les titres et les notes pour tous les films, dans un DataFrame df_allocine. Afficher les premières lignes.\n",
        "df_allocine = {'titre' : films, 'notes presse' : notes_allocine_presse_, 'notes spectateurs' : notes_allocine_spectateurs_}\n",
        "df_allocine = pd.DataFrame(data=df_allocine)"
      ],
      "metadata": {
        "id": "_bTtufYTlfYP"
      },
      "execution_count": 124,
      "outputs": []
    },
    {
      "cell_type": "code",
      "source": [
        "df_allocine.head()"
      ],
      "metadata": {
        "colab": {
          "base_uri": "https://localhost:8080/",
          "height": 206
        },
        "id": "PRAWxoAgl380",
        "outputId": "2a669d2e-4b38-43ef-ae3d-1bfe2e911fd3"
      },
      "execution_count": 125,
      "outputs": [
        {
          "output_type": "execute_result",
          "data": {
            "text/plain": [
              "                   titre notes presse notes spectateurs\n",
              "0           Forrest Gump          2,6               4,6\n",
              "1  La Liste de Schindler          4,2               4,6\n",
              "2         La Ligne verte          2,8               4,6\n",
              "3    12 hommes en colère          5,0               4,6\n",
              "4             Le Parrain          4,6               4,5"
            ],
            "text/html": [
              "\n",
              "  <div id=\"df-68deb11e-77c2-4d39-8f4d-07d8be9c87ce\" class=\"colab-df-container\">\n",
              "    <div>\n",
              "<style scoped>\n",
              "    .dataframe tbody tr th:only-of-type {\n",
              "        vertical-align: middle;\n",
              "    }\n",
              "\n",
              "    .dataframe tbody tr th {\n",
              "        vertical-align: top;\n",
              "    }\n",
              "\n",
              "    .dataframe thead th {\n",
              "        text-align: right;\n",
              "    }\n",
              "</style>\n",
              "<table border=\"1\" class=\"dataframe\">\n",
              "  <thead>\n",
              "    <tr style=\"text-align: right;\">\n",
              "      <th></th>\n",
              "      <th>titre</th>\n",
              "      <th>notes presse</th>\n",
              "      <th>notes spectateurs</th>\n",
              "    </tr>\n",
              "  </thead>\n",
              "  <tbody>\n",
              "    <tr>\n",
              "      <th>0</th>\n",
              "      <td>Forrest Gump</td>\n",
              "      <td>2,6</td>\n",
              "      <td>4,6</td>\n",
              "    </tr>\n",
              "    <tr>\n",
              "      <th>1</th>\n",
              "      <td>La Liste de Schindler</td>\n",
              "      <td>4,2</td>\n",
              "      <td>4,6</td>\n",
              "    </tr>\n",
              "    <tr>\n",
              "      <th>2</th>\n",
              "      <td>La Ligne verte</td>\n",
              "      <td>2,8</td>\n",
              "      <td>4,6</td>\n",
              "    </tr>\n",
              "    <tr>\n",
              "      <th>3</th>\n",
              "      <td>12 hommes en colère</td>\n",
              "      <td>5,0</td>\n",
              "      <td>4,6</td>\n",
              "    </tr>\n",
              "    <tr>\n",
              "      <th>4</th>\n",
              "      <td>Le Parrain</td>\n",
              "      <td>4,6</td>\n",
              "      <td>4,5</td>\n",
              "    </tr>\n",
              "  </tbody>\n",
              "</table>\n",
              "</div>\n",
              "    <div class=\"colab-df-buttons\">\n",
              "\n",
              "  <div class=\"colab-df-container\">\n",
              "    <button class=\"colab-df-convert\" onclick=\"convertToInteractive('df-68deb11e-77c2-4d39-8f4d-07d8be9c87ce')\"\n",
              "            title=\"Convert this dataframe to an interactive table.\"\n",
              "            style=\"display:none;\">\n",
              "\n",
              "  <svg xmlns=\"http://www.w3.org/2000/svg\" height=\"24px\" viewBox=\"0 -960 960 960\">\n",
              "    <path d=\"M120-120v-720h720v720H120Zm60-500h600v-160H180v160Zm220 220h160v-160H400v160Zm0 220h160v-160H400v160ZM180-400h160v-160H180v160Zm440 0h160v-160H620v160ZM180-180h160v-160H180v160Zm440 0h160v-160H620v160Z\"/>\n",
              "  </svg>\n",
              "    </button>\n",
              "\n",
              "  <style>\n",
              "    .colab-df-container {\n",
              "      display:flex;\n",
              "      gap: 12px;\n",
              "    }\n",
              "\n",
              "    .colab-df-convert {\n",
              "      background-color: #E8F0FE;\n",
              "      border: none;\n",
              "      border-radius: 50%;\n",
              "      cursor: pointer;\n",
              "      display: none;\n",
              "      fill: #1967D2;\n",
              "      height: 32px;\n",
              "      padding: 0 0 0 0;\n",
              "      width: 32px;\n",
              "    }\n",
              "\n",
              "    .colab-df-convert:hover {\n",
              "      background-color: #E2EBFA;\n",
              "      box-shadow: 0px 1px 2px rgba(60, 64, 67, 0.3), 0px 1px 3px 1px rgba(60, 64, 67, 0.15);\n",
              "      fill: #174EA6;\n",
              "    }\n",
              "\n",
              "    .colab-df-buttons div {\n",
              "      margin-bottom: 4px;\n",
              "    }\n",
              "\n",
              "    [theme=dark] .colab-df-convert {\n",
              "      background-color: #3B4455;\n",
              "      fill: #D2E3FC;\n",
              "    }\n",
              "\n",
              "    [theme=dark] .colab-df-convert:hover {\n",
              "      background-color: #434B5C;\n",
              "      box-shadow: 0px 1px 3px 1px rgba(0, 0, 0, 0.15);\n",
              "      filter: drop-shadow(0px 1px 2px rgba(0, 0, 0, 0.3));\n",
              "      fill: #FFFFFF;\n",
              "    }\n",
              "  </style>\n",
              "\n",
              "    <script>\n",
              "      const buttonEl =\n",
              "        document.querySelector('#df-68deb11e-77c2-4d39-8f4d-07d8be9c87ce button.colab-df-convert');\n",
              "      buttonEl.style.display =\n",
              "        google.colab.kernel.accessAllowed ? 'block' : 'none';\n",
              "\n",
              "      async function convertToInteractive(key) {\n",
              "        const element = document.querySelector('#df-68deb11e-77c2-4d39-8f4d-07d8be9c87ce');\n",
              "        const dataTable =\n",
              "          await google.colab.kernel.invokeFunction('convertToInteractive',\n",
              "                                                    [key], {});\n",
              "        if (!dataTable) return;\n",
              "\n",
              "        const docLinkHtml = 'Like what you see? Visit the ' +\n",
              "          '<a target=\"_blank\" href=https://colab.research.google.com/notebooks/data_table.ipynb>data table notebook</a>'\n",
              "          + ' to learn more about interactive tables.';\n",
              "        element.innerHTML = '';\n",
              "        dataTable['output_type'] = 'display_data';\n",
              "        await google.colab.output.renderOutput(dataTable, element);\n",
              "        const docLink = document.createElement('div');\n",
              "        docLink.innerHTML = docLinkHtml;\n",
              "        element.appendChild(docLink);\n",
              "      }\n",
              "    </script>\n",
              "  </div>\n",
              "\n",
              "\n",
              "<div id=\"df-bc11f7ba-314c-485c-a103-e9f4b7051088\">\n",
              "  <button class=\"colab-df-quickchart\" onclick=\"quickchart('df-bc11f7ba-314c-485c-a103-e9f4b7051088')\"\n",
              "            title=\"Suggest charts\"\n",
              "            style=\"display:none;\">\n",
              "\n",
              "<svg xmlns=\"http://www.w3.org/2000/svg\" height=\"24px\"viewBox=\"0 0 24 24\"\n",
              "     width=\"24px\">\n",
              "    <g>\n",
              "        <path d=\"M19 3H5c-1.1 0-2 .9-2 2v14c0 1.1.9 2 2 2h14c1.1 0 2-.9 2-2V5c0-1.1-.9-2-2-2zM9 17H7v-7h2v7zm4 0h-2V7h2v10zm4 0h-2v-4h2v4z\"/>\n",
              "    </g>\n",
              "</svg>\n",
              "  </button>\n",
              "\n",
              "<style>\n",
              "  .colab-df-quickchart {\n",
              "      --bg-color: #E8F0FE;\n",
              "      --fill-color: #1967D2;\n",
              "      --hover-bg-color: #E2EBFA;\n",
              "      --hover-fill-color: #174EA6;\n",
              "      --disabled-fill-color: #AAA;\n",
              "      --disabled-bg-color: #DDD;\n",
              "  }\n",
              "\n",
              "  [theme=dark] .colab-df-quickchart {\n",
              "      --bg-color: #3B4455;\n",
              "      --fill-color: #D2E3FC;\n",
              "      --hover-bg-color: #434B5C;\n",
              "      --hover-fill-color: #FFFFFF;\n",
              "      --disabled-bg-color: #3B4455;\n",
              "      --disabled-fill-color: #666;\n",
              "  }\n",
              "\n",
              "  .colab-df-quickchart {\n",
              "    background-color: var(--bg-color);\n",
              "    border: none;\n",
              "    border-radius: 50%;\n",
              "    cursor: pointer;\n",
              "    display: none;\n",
              "    fill: var(--fill-color);\n",
              "    height: 32px;\n",
              "    padding: 0;\n",
              "    width: 32px;\n",
              "  }\n",
              "\n",
              "  .colab-df-quickchart:hover {\n",
              "    background-color: var(--hover-bg-color);\n",
              "    box-shadow: 0 1px 2px rgba(60, 64, 67, 0.3), 0 1px 3px 1px rgba(60, 64, 67, 0.15);\n",
              "    fill: var(--button-hover-fill-color);\n",
              "  }\n",
              "\n",
              "  .colab-df-quickchart-complete:disabled,\n",
              "  .colab-df-quickchart-complete:disabled:hover {\n",
              "    background-color: var(--disabled-bg-color);\n",
              "    fill: var(--disabled-fill-color);\n",
              "    box-shadow: none;\n",
              "  }\n",
              "\n",
              "  .colab-df-spinner {\n",
              "    border: 2px solid var(--fill-color);\n",
              "    border-color: transparent;\n",
              "    border-bottom-color: var(--fill-color);\n",
              "    animation:\n",
              "      spin 1s steps(1) infinite;\n",
              "  }\n",
              "\n",
              "  @keyframes spin {\n",
              "    0% {\n",
              "      border-color: transparent;\n",
              "      border-bottom-color: var(--fill-color);\n",
              "      border-left-color: var(--fill-color);\n",
              "    }\n",
              "    20% {\n",
              "      border-color: transparent;\n",
              "      border-left-color: var(--fill-color);\n",
              "      border-top-color: var(--fill-color);\n",
              "    }\n",
              "    30% {\n",
              "      border-color: transparent;\n",
              "      border-left-color: var(--fill-color);\n",
              "      border-top-color: var(--fill-color);\n",
              "      border-right-color: var(--fill-color);\n",
              "    }\n",
              "    40% {\n",
              "      border-color: transparent;\n",
              "      border-right-color: var(--fill-color);\n",
              "      border-top-color: var(--fill-color);\n",
              "    }\n",
              "    60% {\n",
              "      border-color: transparent;\n",
              "      border-right-color: var(--fill-color);\n",
              "    }\n",
              "    80% {\n",
              "      border-color: transparent;\n",
              "      border-right-color: var(--fill-color);\n",
              "      border-bottom-color: var(--fill-color);\n",
              "    }\n",
              "    90% {\n",
              "      border-color: transparent;\n",
              "      border-bottom-color: var(--fill-color);\n",
              "    }\n",
              "  }\n",
              "</style>\n",
              "\n",
              "  <script>\n",
              "    async function quickchart(key) {\n",
              "      const quickchartButtonEl =\n",
              "        document.querySelector('#' + key + ' button');\n",
              "      quickchartButtonEl.disabled = true;  // To prevent multiple clicks.\n",
              "      quickchartButtonEl.classList.add('colab-df-spinner');\n",
              "      try {\n",
              "        const charts = await google.colab.kernel.invokeFunction(\n",
              "            'suggestCharts', [key], {});\n",
              "      } catch (error) {\n",
              "        console.error('Error during call to suggestCharts:', error);\n",
              "      }\n",
              "      quickchartButtonEl.classList.remove('colab-df-spinner');\n",
              "      quickchartButtonEl.classList.add('colab-df-quickchart-complete');\n",
              "    }\n",
              "    (() => {\n",
              "      let quickchartButtonEl =\n",
              "        document.querySelector('#df-bc11f7ba-314c-485c-a103-e9f4b7051088 button');\n",
              "      quickchartButtonEl.style.display =\n",
              "        google.colab.kernel.accessAllowed ? 'block' : 'none';\n",
              "    })();\n",
              "  </script>\n",
              "</div>\n",
              "    </div>\n",
              "  </div>\n"
            ],
            "application/vnd.google.colaboratory.intrinsic+json": {
              "type": "dataframe",
              "variable_name": "df_allocine",
              "summary": "{\n  \"name\": \"df_allocine\",\n  \"rows\": 10,\n  \"fields\": [\n    {\n      \"column\": \"titre\",\n      \"properties\": {\n        \"dtype\": \"string\",\n        \"num_unique_values\": 10,\n        \"samples\": [\n          \"Vol au-dessus d'un nid de coucou\",\n          \"La Liste de Schindler\",\n          \"Les Evad\\u00e9s\"\n        ],\n        \"semantic_type\": \"\",\n        \"description\": \"\"\n      }\n    },\n    {\n      \"column\": \"notes presse\",\n      \"properties\": {\n        \"dtype\": \"string\",\n        \"num_unique_values\": 9,\n        \"samples\": [\n          \"3,4\",\n          \"4,2\",\n          \"3,2\"\n        ],\n        \"semantic_type\": \"\",\n        \"description\": \"\"\n      }\n    },\n    {\n      \"column\": \"notes spectateurs\",\n      \"properties\": {\n        \"dtype\": \"category\",\n        \"num_unique_values\": 2,\n        \"samples\": [\n          \"4,5\",\n          \"4,6\"\n        ],\n        \"semantic_type\": \"\",\n        \"description\": \"\"\n      }\n    }\n  ]\n}"
            }
          },
          "metadata": {},
          "execution_count": 125
        }
      ]
    },
    {
      "cell_type": "markdown",
      "source": [
        "3. **Comparaison**"
      ],
      "metadata": {
        "id": "I4SSs8tdn8Hc"
      }
    },
    {
      "cell_type": "markdown",
      "source": [
        "Utiliser la méthode str.upper() pour mettre en majuscule l'intégralité de la colonne Titre des deux DataFrames."
      ],
      "metadata": {
        "id": "dAz78g7gn_M_"
      }
    },
    {
      "cell_type": "code",
      "source": [
        "df_allocine['titre'] = df_allocine['titre'].str.upper()\n",
        "df_imdb['titre'] = df_imdb['titre'].str.upper()"
      ],
      "metadata": {
        "id": "oc5jZwgxocb2"
      },
      "execution_count": 126,
      "outputs": []
    },
    {
      "cell_type": "markdown",
      "source": [
        "Fusionner les DataFrames df_imdb et df_allocine dans un nouveau DataFrame df en gardant seulement les films en commun."
      ],
      "metadata": {
        "id": "TNP0Ft9do-OJ"
      }
    },
    {
      "cell_type": "code",
      "source": [
        "df = pd.concat([df_allocine,df_imdb])"
      ],
      "metadata": {
        "id": "AaOsQVBHo-qp"
      },
      "execution_count": 127,
      "outputs": []
    },
    {
      "cell_type": "code",
      "source": [
        "df"
      ],
      "metadata": {
        "colab": {
          "base_uri": "https://localhost:8080/",
          "height": 424
        },
        "id": "oSDPvrEVpHPk",
        "outputId": "05dd0d2f-a00c-4ee1-d8ff-f15011de7424"
      },
      "execution_count": 128,
      "outputs": [
        {
          "output_type": "execute_result",
          "data": {
            "text/plain": [
              "                         titre notes presse notes spectateurs rang annee\n",
              "0                 FORREST GUMP          2,6               4,6  NaN   NaN\n",
              "1        LA LISTE DE SCHINDLER          4,2               4,6  NaN   NaN\n",
              "2               LA LIGNE VERTE          2,8               4,6  NaN   NaN\n",
              "3          12 HOMMES EN COLÈRE          5,0               4,6  NaN   NaN\n",
              "4                   LE PARRAIN          4,6               4,5  NaN   NaN\n",
              "..                         ...          ...               ...  ...   ...\n",
              "245            LE GÉANT DE FER          NaN              8,0   246  1999\n",
              "246  LA COULEUR DES SENTIMENTS          NaN              8,0   247  2011\n",
              "247                    ALADDIN          NaN              8,0   248  1992\n",
              "248                     GANDHI          NaN              8,0   249  1982\n",
              "249  DU RIFIFI CHEZ LES HOMMES          NaN              8,0   250  1955\n",
              "\n",
              "[260 rows x 5 columns]"
            ],
            "text/html": [
              "\n",
              "  <div id=\"df-1da63ad3-21be-451e-9237-3f7ed0cea1df\" class=\"colab-df-container\">\n",
              "    <div>\n",
              "<style scoped>\n",
              "    .dataframe tbody tr th:only-of-type {\n",
              "        vertical-align: middle;\n",
              "    }\n",
              "\n",
              "    .dataframe tbody tr th {\n",
              "        vertical-align: top;\n",
              "    }\n",
              "\n",
              "    .dataframe thead th {\n",
              "        text-align: right;\n",
              "    }\n",
              "</style>\n",
              "<table border=\"1\" class=\"dataframe\">\n",
              "  <thead>\n",
              "    <tr style=\"text-align: right;\">\n",
              "      <th></th>\n",
              "      <th>titre</th>\n",
              "      <th>notes presse</th>\n",
              "      <th>notes spectateurs</th>\n",
              "      <th>rang</th>\n",
              "      <th>annee</th>\n",
              "    </tr>\n",
              "  </thead>\n",
              "  <tbody>\n",
              "    <tr>\n",
              "      <th>0</th>\n",
              "      <td>FORREST GUMP</td>\n",
              "      <td>2,6</td>\n",
              "      <td>4,6</td>\n",
              "      <td>NaN</td>\n",
              "      <td>NaN</td>\n",
              "    </tr>\n",
              "    <tr>\n",
              "      <th>1</th>\n",
              "      <td>LA LISTE DE SCHINDLER</td>\n",
              "      <td>4,2</td>\n",
              "      <td>4,6</td>\n",
              "      <td>NaN</td>\n",
              "      <td>NaN</td>\n",
              "    </tr>\n",
              "    <tr>\n",
              "      <th>2</th>\n",
              "      <td>LA LIGNE VERTE</td>\n",
              "      <td>2,8</td>\n",
              "      <td>4,6</td>\n",
              "      <td>NaN</td>\n",
              "      <td>NaN</td>\n",
              "    </tr>\n",
              "    <tr>\n",
              "      <th>3</th>\n",
              "      <td>12 HOMMES EN COLÈRE</td>\n",
              "      <td>5,0</td>\n",
              "      <td>4,6</td>\n",
              "      <td>NaN</td>\n",
              "      <td>NaN</td>\n",
              "    </tr>\n",
              "    <tr>\n",
              "      <th>4</th>\n",
              "      <td>LE PARRAIN</td>\n",
              "      <td>4,6</td>\n",
              "      <td>4,5</td>\n",
              "      <td>NaN</td>\n",
              "      <td>NaN</td>\n",
              "    </tr>\n",
              "    <tr>\n",
              "      <th>...</th>\n",
              "      <td>...</td>\n",
              "      <td>...</td>\n",
              "      <td>...</td>\n",
              "      <td>...</td>\n",
              "      <td>...</td>\n",
              "    </tr>\n",
              "    <tr>\n",
              "      <th>245</th>\n",
              "      <td>LE GÉANT DE FER</td>\n",
              "      <td>NaN</td>\n",
              "      <td>8,0</td>\n",
              "      <td>246</td>\n",
              "      <td>1999</td>\n",
              "    </tr>\n",
              "    <tr>\n",
              "      <th>246</th>\n",
              "      <td>LA COULEUR DES SENTIMENTS</td>\n",
              "      <td>NaN</td>\n",
              "      <td>8,0</td>\n",
              "      <td>247</td>\n",
              "      <td>2011</td>\n",
              "    </tr>\n",
              "    <tr>\n",
              "      <th>247</th>\n",
              "      <td>ALADDIN</td>\n",
              "      <td>NaN</td>\n",
              "      <td>8,0</td>\n",
              "      <td>248</td>\n",
              "      <td>1992</td>\n",
              "    </tr>\n",
              "    <tr>\n",
              "      <th>248</th>\n",
              "      <td>GANDHI</td>\n",
              "      <td>NaN</td>\n",
              "      <td>8,0</td>\n",
              "      <td>249</td>\n",
              "      <td>1982</td>\n",
              "    </tr>\n",
              "    <tr>\n",
              "      <th>249</th>\n",
              "      <td>DU RIFIFI CHEZ LES HOMMES</td>\n",
              "      <td>NaN</td>\n",
              "      <td>8,0</td>\n",
              "      <td>250</td>\n",
              "      <td>1955</td>\n",
              "    </tr>\n",
              "  </tbody>\n",
              "</table>\n",
              "<p>260 rows × 5 columns</p>\n",
              "</div>\n",
              "    <div class=\"colab-df-buttons\">\n",
              "\n",
              "  <div class=\"colab-df-container\">\n",
              "    <button class=\"colab-df-convert\" onclick=\"convertToInteractive('df-1da63ad3-21be-451e-9237-3f7ed0cea1df')\"\n",
              "            title=\"Convert this dataframe to an interactive table.\"\n",
              "            style=\"display:none;\">\n",
              "\n",
              "  <svg xmlns=\"http://www.w3.org/2000/svg\" height=\"24px\" viewBox=\"0 -960 960 960\">\n",
              "    <path d=\"M120-120v-720h720v720H120Zm60-500h600v-160H180v160Zm220 220h160v-160H400v160Zm0 220h160v-160H400v160ZM180-400h160v-160H180v160Zm440 0h160v-160H620v160ZM180-180h160v-160H180v160Zm440 0h160v-160H620v160Z\"/>\n",
              "  </svg>\n",
              "    </button>\n",
              "\n",
              "  <style>\n",
              "    .colab-df-container {\n",
              "      display:flex;\n",
              "      gap: 12px;\n",
              "    }\n",
              "\n",
              "    .colab-df-convert {\n",
              "      background-color: #E8F0FE;\n",
              "      border: none;\n",
              "      border-radius: 50%;\n",
              "      cursor: pointer;\n",
              "      display: none;\n",
              "      fill: #1967D2;\n",
              "      height: 32px;\n",
              "      padding: 0 0 0 0;\n",
              "      width: 32px;\n",
              "    }\n",
              "\n",
              "    .colab-df-convert:hover {\n",
              "      background-color: #E2EBFA;\n",
              "      box-shadow: 0px 1px 2px rgba(60, 64, 67, 0.3), 0px 1px 3px 1px rgba(60, 64, 67, 0.15);\n",
              "      fill: #174EA6;\n",
              "    }\n",
              "\n",
              "    .colab-df-buttons div {\n",
              "      margin-bottom: 4px;\n",
              "    }\n",
              "\n",
              "    [theme=dark] .colab-df-convert {\n",
              "      background-color: #3B4455;\n",
              "      fill: #D2E3FC;\n",
              "    }\n",
              "\n",
              "    [theme=dark] .colab-df-convert:hover {\n",
              "      background-color: #434B5C;\n",
              "      box-shadow: 0px 1px 3px 1px rgba(0, 0, 0, 0.15);\n",
              "      filter: drop-shadow(0px 1px 2px rgba(0, 0, 0, 0.3));\n",
              "      fill: #FFFFFF;\n",
              "    }\n",
              "  </style>\n",
              "\n",
              "    <script>\n",
              "      const buttonEl =\n",
              "        document.querySelector('#df-1da63ad3-21be-451e-9237-3f7ed0cea1df button.colab-df-convert');\n",
              "      buttonEl.style.display =\n",
              "        google.colab.kernel.accessAllowed ? 'block' : 'none';\n",
              "\n",
              "      async function convertToInteractive(key) {\n",
              "        const element = document.querySelector('#df-1da63ad3-21be-451e-9237-3f7ed0cea1df');\n",
              "        const dataTable =\n",
              "          await google.colab.kernel.invokeFunction('convertToInteractive',\n",
              "                                                    [key], {});\n",
              "        if (!dataTable) return;\n",
              "\n",
              "        const docLinkHtml = 'Like what you see? Visit the ' +\n",
              "          '<a target=\"_blank\" href=https://colab.research.google.com/notebooks/data_table.ipynb>data table notebook</a>'\n",
              "          + ' to learn more about interactive tables.';\n",
              "        element.innerHTML = '';\n",
              "        dataTable['output_type'] = 'display_data';\n",
              "        await google.colab.output.renderOutput(dataTable, element);\n",
              "        const docLink = document.createElement('div');\n",
              "        docLink.innerHTML = docLinkHtml;\n",
              "        element.appendChild(docLink);\n",
              "      }\n",
              "    </script>\n",
              "  </div>\n",
              "\n",
              "\n",
              "<div id=\"df-2f3d41b9-32c8-4208-9a3f-3ff857363e43\">\n",
              "  <button class=\"colab-df-quickchart\" onclick=\"quickchart('df-2f3d41b9-32c8-4208-9a3f-3ff857363e43')\"\n",
              "            title=\"Suggest charts\"\n",
              "            style=\"display:none;\">\n",
              "\n",
              "<svg xmlns=\"http://www.w3.org/2000/svg\" height=\"24px\"viewBox=\"0 0 24 24\"\n",
              "     width=\"24px\">\n",
              "    <g>\n",
              "        <path d=\"M19 3H5c-1.1 0-2 .9-2 2v14c0 1.1.9 2 2 2h14c1.1 0 2-.9 2-2V5c0-1.1-.9-2-2-2zM9 17H7v-7h2v7zm4 0h-2V7h2v10zm4 0h-2v-4h2v4z\"/>\n",
              "    </g>\n",
              "</svg>\n",
              "  </button>\n",
              "\n",
              "<style>\n",
              "  .colab-df-quickchart {\n",
              "      --bg-color: #E8F0FE;\n",
              "      --fill-color: #1967D2;\n",
              "      --hover-bg-color: #E2EBFA;\n",
              "      --hover-fill-color: #174EA6;\n",
              "      --disabled-fill-color: #AAA;\n",
              "      --disabled-bg-color: #DDD;\n",
              "  }\n",
              "\n",
              "  [theme=dark] .colab-df-quickchart {\n",
              "      --bg-color: #3B4455;\n",
              "      --fill-color: #D2E3FC;\n",
              "      --hover-bg-color: #434B5C;\n",
              "      --hover-fill-color: #FFFFFF;\n",
              "      --disabled-bg-color: #3B4455;\n",
              "      --disabled-fill-color: #666;\n",
              "  }\n",
              "\n",
              "  .colab-df-quickchart {\n",
              "    background-color: var(--bg-color);\n",
              "    border: none;\n",
              "    border-radius: 50%;\n",
              "    cursor: pointer;\n",
              "    display: none;\n",
              "    fill: var(--fill-color);\n",
              "    height: 32px;\n",
              "    padding: 0;\n",
              "    width: 32px;\n",
              "  }\n",
              "\n",
              "  .colab-df-quickchart:hover {\n",
              "    background-color: var(--hover-bg-color);\n",
              "    box-shadow: 0 1px 2px rgba(60, 64, 67, 0.3), 0 1px 3px 1px rgba(60, 64, 67, 0.15);\n",
              "    fill: var(--button-hover-fill-color);\n",
              "  }\n",
              "\n",
              "  .colab-df-quickchart-complete:disabled,\n",
              "  .colab-df-quickchart-complete:disabled:hover {\n",
              "    background-color: var(--disabled-bg-color);\n",
              "    fill: var(--disabled-fill-color);\n",
              "    box-shadow: none;\n",
              "  }\n",
              "\n",
              "  .colab-df-spinner {\n",
              "    border: 2px solid var(--fill-color);\n",
              "    border-color: transparent;\n",
              "    border-bottom-color: var(--fill-color);\n",
              "    animation:\n",
              "      spin 1s steps(1) infinite;\n",
              "  }\n",
              "\n",
              "  @keyframes spin {\n",
              "    0% {\n",
              "      border-color: transparent;\n",
              "      border-bottom-color: var(--fill-color);\n",
              "      border-left-color: var(--fill-color);\n",
              "    }\n",
              "    20% {\n",
              "      border-color: transparent;\n",
              "      border-left-color: var(--fill-color);\n",
              "      border-top-color: var(--fill-color);\n",
              "    }\n",
              "    30% {\n",
              "      border-color: transparent;\n",
              "      border-left-color: var(--fill-color);\n",
              "      border-top-color: var(--fill-color);\n",
              "      border-right-color: var(--fill-color);\n",
              "    }\n",
              "    40% {\n",
              "      border-color: transparent;\n",
              "      border-right-color: var(--fill-color);\n",
              "      border-top-color: var(--fill-color);\n",
              "    }\n",
              "    60% {\n",
              "      border-color: transparent;\n",
              "      border-right-color: var(--fill-color);\n",
              "    }\n",
              "    80% {\n",
              "      border-color: transparent;\n",
              "      border-right-color: var(--fill-color);\n",
              "      border-bottom-color: var(--fill-color);\n",
              "    }\n",
              "    90% {\n",
              "      border-color: transparent;\n",
              "      border-bottom-color: var(--fill-color);\n",
              "    }\n",
              "  }\n",
              "</style>\n",
              "\n",
              "  <script>\n",
              "    async function quickchart(key) {\n",
              "      const quickchartButtonEl =\n",
              "        document.querySelector('#' + key + ' button');\n",
              "      quickchartButtonEl.disabled = true;  // To prevent multiple clicks.\n",
              "      quickchartButtonEl.classList.add('colab-df-spinner');\n",
              "      try {\n",
              "        const charts = await google.colab.kernel.invokeFunction(\n",
              "            'suggestCharts', [key], {});\n",
              "      } catch (error) {\n",
              "        console.error('Error during call to suggestCharts:', error);\n",
              "      }\n",
              "      quickchartButtonEl.classList.remove('colab-df-spinner');\n",
              "      quickchartButtonEl.classList.add('colab-df-quickchart-complete');\n",
              "    }\n",
              "    (() => {\n",
              "      let quickchartButtonEl =\n",
              "        document.querySelector('#df-2f3d41b9-32c8-4208-9a3f-3ff857363e43 button');\n",
              "      quickchartButtonEl.style.display =\n",
              "        google.colab.kernel.accessAllowed ? 'block' : 'none';\n",
              "    })();\n",
              "  </script>\n",
              "</div>\n",
              "    </div>\n",
              "  </div>\n"
            ],
            "application/vnd.google.colaboratory.intrinsic+json": {
              "type": "dataframe",
              "variable_name": "df",
              "summary": "{\n  \"name\": \"df\",\n  \"rows\": 260,\n  \"fields\": [\n    {\n      \"column\": \"titre\",\n      \"properties\": {\n        \"dtype\": \"string\",\n        \"num_unique_values\": 251,\n        \"samples\": [\n          \"ELEPHANT MAN\",\n          \"LE SEIGNEUR DES ANNEAUX : LE RETOUR DU ROI\",\n          \"LE CH\\u00c2TEAU AMBULANT\"\n        ],\n        \"semantic_type\": \"\",\n        \"description\": \"\"\n      }\n    },\n    {\n      \"column\": \"notes presse\",\n      \"properties\": {\n        \"dtype\": \"category\",\n        \"num_unique_values\": 9,\n        \"samples\": [\n          \"3,4\",\n          \"4,2\",\n          \"3,2\"\n        ],\n        \"semantic_type\": \"\",\n        \"description\": \"\"\n      }\n    },\n    {\n      \"column\": \"notes spectateurs\",\n      \"properties\": {\n        \"dtype\": \"category\",\n        \"num_unique_values\": 14,\n        \"samples\": [\n          \" 8,4 \",\n          \" 8,2 \",\n          \"4,6\"\n        ],\n        \"semantic_type\": \"\",\n        \"description\": \"\"\n      }\n    },\n    {\n      \"column\": \"rang\",\n      \"properties\": {\n        \"dtype\": \"string\",\n        \"num_unique_values\": 250,\n        \"samples\": [\n          \"143\",\n          \"7\",\n          \"98\"\n        ],\n        \"semantic_type\": \"\",\n        \"description\": \"\"\n      }\n    },\n    {\n      \"column\": \"annee\",\n      \"properties\": {\n        \"dtype\": \"date\",\n        \"min\": \"1921-01-01 00:00:00\",\n        \"max\": \"2022-01-01 00:00:00\",\n        \"num_unique_values\": 86,\n        \"samples\": [\n          \"1996\",\n          \"1994\",\n          \"1961\"\n        ],\n        \"semantic_type\": \"\",\n        \"description\": \"\"\n      }\n    }\n  ]\n}"
            }
          },
          "metadata": {},
          "execution_count": 128
        }
      ]
    },
    {
      "cell_type": "markdown",
      "source": [
        "Selon les spectateurs, quel site a les meilleures notes ?"
      ],
      "metadata": {
        "id": "jhhO387IqQ5K"
      }
    },
    {
      "cell_type": "code",
      "source": [
        "df = df.sort_values(by=['notes spectateurs'])"
      ],
      "metadata": {
        "id": "3_BFlmXZqjXw"
      },
      "execution_count": 137,
      "outputs": []
    },
    {
      "cell_type": "code",
      "source": [
        "print(df.head(1))"
      ],
      "metadata": {
        "colab": {
          "base_uri": "https://localhost:8080/"
        },
        "id": "pbxPBC1CqRcA",
        "outputId": "a24b8983-388b-4fb7-f1d4-27b07b39045c"
      },
      "execution_count": 141,
      "outputs": [
        {
          "output_type": "stream",
          "name": "stdout",
          "text": [
            "                         titre notes presse notes spectateurs rang annee\n",
            "249  DU RIFIFI CHEZ LES HOMMES          NaN              8,0   250  1955\n"
          ]
        }
      ]
    }
  ]
}